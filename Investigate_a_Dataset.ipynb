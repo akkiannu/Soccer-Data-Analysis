{
 "cells": [
  {
   "cell_type": "markdown",
   "metadata": {},
   "source": [
    "# Project: Soccer Data Analysis\n",
    "\n",
    "## Table of Contents\n",
    "<ul>\n",
    "<li><a href=\"#intro\">Introduction</a></li>\n",
    "<li><a href=\"#wrangling\">Data Wrangling</a></li>\n",
    "<li><a href=\"#eda\">Exploratory Data Analysis</a></li>\n",
    "<li><a href=\"#Final Thoughts\">Final Thoughts</a></li>\n",
    "<li><a href=\"#appendix\">Appendix</a></li>\n",
    "</ul>"
   ]
  },
  {
   "cell_type": "markdown",
   "metadata": {},
   "source": [
    "<a id='intro'></a>\n",
    "## Introduction\n",
    "\n",
    "The Soccer Dataset from Kaggle is a collection of tables detailing the ratings of teams (clubs and international) along with the FIFA registered players. Following are the tables part of the Database:\n",
    "\n",
    "1. Country\n",
    "2. League\n",
    "3. Match\n",
    "4. Player\n",
    "5. Player_attributes\n",
    "6. Team\n",
    "7. Team_attributes"
   ]
  },
  {
   "cell_type": "code",
   "execution_count": 1,
   "metadata": {},
   "outputs": [],
   "source": [
    "import pandas as pd\n",
    "import seaborn as sns\n",
    "from matplotlib import pyplot as plt\n",
    "import sqlite3\n",
    "\n",
    "%matplotlib inline\n",
    "# Remember to include a 'magic word' so that your visualizations are plotted\n",
    "#   inline with the notebook. See this page for more:\n",
    "#   http://ipython.readthedocs.io/en/stable/interactive/magics.html\n"
   ]
  },
  {
   "cell_type": "markdown",
   "metadata": {},
   "source": [
    "<a id='wrangling'></a>\n",
    "## Data Wrangling\n",
    "\n",
    "\n",
    "### General Properties"
   ]
  },
  {
   "cell_type": "markdown",
   "metadata": {},
   "source": [
    "Since the data is in sqlite we would be using the **sqlite3** library"
   ]
  },
  {
   "cell_type": "code",
   "execution_count": 2,
   "metadata": {},
   "outputs": [],
   "source": [
    "conn = sqlite3.connect('database.sqlite')"
   ]
  },
  {
   "cell_type": "markdown",
   "metadata": {},
   "source": [
    "Sqlite3 requires basic knowledge of SQL. However, it can run advanced queries too. Since the scope of this project is limited to Python, I would not be deep diving into SQL."
   ]
  },
  {
   "cell_type": "markdown",
   "metadata": {},
   "source": [
    "Here we load all the tables present with the sqlite database:"
   ]
  },
  {
   "cell_type": "code",
   "execution_count": 3,
   "metadata": {},
   "outputs": [],
   "source": [
    "country_df = pd.read_sql_query('select * from country',conn)\n",
    "match_df = pd.read_sql_query('select * from match',conn)\n",
    "player_df = pd.read_sql_query('select * from player',conn)\n",
    "player_attr_df = pd.read_sql_query('select * from player_attributes',conn)"
   ]
  },
  {
   "cell_type": "markdown",
   "metadata": {},
   "source": [
    "We would now check for missing values from the following three tables:\n",
    "    1. player_df\n",
    "    2. player_attr_df\n",
    "    3. match_df\n",
    "    4. country_df\n",
    "For limiting the scope of this project I would not be using the other tables."
   ]
  },
  {
   "cell_type": "markdown",
   "metadata": {},
   "source": [
    "`player_df` table lists out the details about the player in terms of their name, weight and height."
   ]
  },
  {
   "cell_type": "code",
   "execution_count": 4,
   "metadata": {
    "scrolled": false
   },
   "outputs": [
    {
     "name": "stdout",
     "output_type": "stream",
     "text": [
      "<class 'pandas.core.frame.DataFrame'>\n",
      "RangeIndex: 11060 entries, 0 to 11059\n",
      "Data columns (total 7 columns):\n",
      " #   Column              Non-Null Count  Dtype  \n",
      "---  ------              --------------  -----  \n",
      " 0   id                  11060 non-null  int64  \n",
      " 1   player_api_id       11060 non-null  int64  \n",
      " 2   player_name         11060 non-null  object \n",
      " 3   player_fifa_api_id  11060 non-null  int64  \n",
      " 4   birthday            11060 non-null  object \n",
      " 5   height              11060 non-null  float64\n",
      " 6   weight              11060 non-null  int64  \n",
      "dtypes: float64(1), int64(4), object(2)\n",
      "memory usage: 605.0+ KB\n"
     ]
    }
   ],
   "source": [
    "player_df.info()"
   ]
  },
  {
   "cell_type": "markdown",
   "metadata": {},
   "source": [
    "We see that there are no missing value within the player_df. We can also see that the object types here make sense depending on the information they hold.\n",
    "\n",
    "---"
   ]
  },
  {
   "cell_type": "markdown",
   "metadata": {},
   "source": [
    "`player_attr_df` lists out the technical stats about the player."
   ]
  },
  {
   "cell_type": "code",
   "execution_count": 5,
   "metadata": {
    "scrolled": true
   },
   "outputs": [
    {
     "name": "stdout",
     "output_type": "stream",
     "text": [
      "<class 'pandas.core.frame.DataFrame'>\n",
      "RangeIndex: 183978 entries, 0 to 183977\n",
      "Data columns (total 42 columns):\n",
      " #   Column               Non-Null Count   Dtype  \n",
      "---  ------               --------------   -----  \n",
      " 0   id                   183978 non-null  int64  \n",
      " 1   player_fifa_api_id   183978 non-null  int64  \n",
      " 2   player_api_id        183978 non-null  int64  \n",
      " 3   date                 183978 non-null  object \n",
      " 4   overall_rating       183142 non-null  float64\n",
      " 5   potential            183142 non-null  float64\n",
      " 6   preferred_foot       183142 non-null  object \n",
      " 7   attacking_work_rate  180748 non-null  object \n",
      " 8   defensive_work_rate  183142 non-null  object \n",
      " 9   crossing             183142 non-null  float64\n",
      " 10  finishing            183142 non-null  float64\n",
      " 11  heading_accuracy     183142 non-null  float64\n",
      " 12  short_passing        183142 non-null  float64\n",
      " 13  volleys              181265 non-null  float64\n",
      " 14  dribbling            183142 non-null  float64\n",
      " 15  curve                181265 non-null  float64\n",
      " 16  free_kick_accuracy   183142 non-null  float64\n",
      " 17  long_passing         183142 non-null  float64\n",
      " 18  ball_control         183142 non-null  float64\n",
      " 19  acceleration         183142 non-null  float64\n",
      " 20  sprint_speed         183142 non-null  float64\n",
      " 21  agility              181265 non-null  float64\n",
      " 22  reactions            183142 non-null  float64\n",
      " 23  balance              181265 non-null  float64\n",
      " 24  shot_power           183142 non-null  float64\n",
      " 25  jumping              181265 non-null  float64\n",
      " 26  stamina              183142 non-null  float64\n",
      " 27  strength             183142 non-null  float64\n",
      " 28  long_shots           183142 non-null  float64\n",
      " 29  aggression           183142 non-null  float64\n",
      " 30  interceptions        183142 non-null  float64\n",
      " 31  positioning          183142 non-null  float64\n",
      " 32  vision               181265 non-null  float64\n",
      " 33  penalties            183142 non-null  float64\n",
      " 34  marking              183142 non-null  float64\n",
      " 35  standing_tackle      183142 non-null  float64\n",
      " 36  sliding_tackle       181265 non-null  float64\n",
      " 37  gk_diving            183142 non-null  float64\n",
      " 38  gk_handling          183142 non-null  float64\n",
      " 39  gk_kicking           183142 non-null  float64\n",
      " 40  gk_positioning       183142 non-null  float64\n",
      " 41  gk_reflexes          183142 non-null  float64\n",
      "dtypes: float64(35), int64(3), object(4)\n",
      "memory usage: 59.0+ MB\n"
     ]
    }
   ],
   "source": [
    "player_attr_df.info()"
   ]
  },
  {
   "cell_type": "markdown",
   "metadata": {},
   "source": [
    "Unlike player_df, player_attr_df has a number of missing values. We would deep dive into this in the next section. \n",
    "\n",
    "---"
   ]
  },
  {
   "cell_type": "code",
   "execution_count": 6,
   "metadata": {
    "scrolled": true
   },
   "outputs": [
    {
     "name": "stdout",
     "output_type": "stream",
     "text": [
      "<class 'pandas.core.frame.DataFrame'>\n",
      "RangeIndex: 11 entries, 0 to 10\n",
      "Data columns (total 2 columns):\n",
      " #   Column  Non-Null Count  Dtype \n",
      "---  ------  --------------  ----- \n",
      " 0   id      11 non-null     int64 \n",
      " 1   name    11 non-null     object\n",
      "dtypes: int64(1), object(1)\n",
      "memory usage: 304.0+ bytes\n"
     ]
    }
   ],
   "source": [
    "country_df.info()"
   ]
  },
  {
   "cell_type": "markdown",
   "metadata": {},
   "source": [
    "The `country_df` can be used as a lookup table for `match_df` to seggregate matches based on the country they are played in."
   ]
  },
  {
   "cell_type": "markdown",
   "metadata": {},
   "source": [
    "`match_df` table gives out the details of all the matches played every season across multiple seasons and various leagues.\n",
    "Let us explore the `match_df` table. Since there are about 115 columns, we would be converting them to a list so we can see the name of the columns within the table. "
   ]
  },
  {
   "cell_type": "code",
   "execution_count": 7,
   "metadata": {
    "scrolled": false
   },
   "outputs": [
    {
     "name": "stdout",
     "output_type": "stream",
     "text": [
      "['id', 'country_id', 'league_id', 'season', 'stage', 'date', 'match_api_id', 'home_team_api_id', 'away_team_api_id', 'home_team_goal', 'away_team_goal', 'home_player_X1', 'home_player_X2', 'home_player_X3', 'home_player_X4', 'home_player_X5', 'home_player_X6', 'home_player_X7', 'home_player_X8', 'home_player_X9', 'home_player_X10', 'home_player_X11', 'away_player_X1', 'away_player_X2', 'away_player_X3', 'away_player_X4', 'away_player_X5', 'away_player_X6', 'away_player_X7', 'away_player_X8', 'away_player_X9', 'away_player_X10', 'away_player_X11', 'home_player_Y1', 'home_player_Y2', 'home_player_Y3', 'home_player_Y4', 'home_player_Y5', 'home_player_Y6', 'home_player_Y7', 'home_player_Y8', 'home_player_Y9', 'home_player_Y10', 'home_player_Y11', 'away_player_Y1', 'away_player_Y2', 'away_player_Y3', 'away_player_Y4', 'away_player_Y5', 'away_player_Y6', 'away_player_Y7', 'away_player_Y8', 'away_player_Y9', 'away_player_Y10', 'away_player_Y11', 'home_player_1', 'home_player_2', 'home_player_3', 'home_player_4', 'home_player_5', 'home_player_6', 'home_player_7', 'home_player_8', 'home_player_9', 'home_player_10', 'home_player_11', 'away_player_1', 'away_player_2', 'away_player_3', 'away_player_4', 'away_player_5', 'away_player_6', 'away_player_7', 'away_player_8', 'away_player_9', 'away_player_10', 'away_player_11', 'goal', 'shoton', 'shotoff', 'foulcommit', 'card', 'cross', 'corner', 'possession', 'B365H', 'B365D', 'B365A', 'BWH', 'BWD', 'BWA', 'IWH', 'IWD', 'IWA', 'LBH', 'LBD', 'LBA', 'PSH', 'PSD', 'PSA', 'WHH', 'WHD', 'WHA', 'SJH', 'SJD', 'SJA', 'VCH', 'VCD', 'VCA', 'GBH', 'GBD', 'GBA', 'BSH', 'BSD', 'BSA']\n"
     ]
    }
   ],
   "source": [
    "match_l = list(match_df.columns)\n",
    "print(match_l)"
   ]
  },
  {
   "cell_type": "markdown",
   "metadata": {},
   "source": [
    "Since the `match_df` has a number of columns listed above, we would only be selecting a handful of them as all of them are not relevant for our scope of the project."
   ]
  },
  {
   "cell_type": "code",
   "execution_count": 8,
   "metadata": {},
   "outputs": [],
   "source": [
    "match_df = match_df[['id', 'country_id', 'season', 'stage', 'match_api_id', 'home_team_goal', 'away_team_goal']]"
   ]
  },
  {
   "cell_type": "code",
   "execution_count": 9,
   "metadata": {},
   "outputs": [
    {
     "name": "stdout",
     "output_type": "stream",
     "text": [
      "<class 'pandas.core.frame.DataFrame'>\n",
      "RangeIndex: 25979 entries, 0 to 25978\n",
      "Data columns (total 7 columns):\n",
      " #   Column          Non-Null Count  Dtype \n",
      "---  ------          --------------  ----- \n",
      " 0   id              25979 non-null  int64 \n",
      " 1   country_id      25979 non-null  int64 \n",
      " 2   season          25979 non-null  object\n",
      " 3   stage           25979 non-null  int64 \n",
      " 4   match_api_id    25979 non-null  int64 \n",
      " 5   home_team_goal  25979 non-null  int64 \n",
      " 6   away_team_goal  25979 non-null  int64 \n",
      "dtypes: int64(6), object(1)\n",
      "memory usage: 1.4+ MB\n"
     ]
    }
   ],
   "source": [
    "match_df.info()"
   ]
  },
  {
   "cell_type": "markdown",
   "metadata": {},
   "source": [
    "### Investigating Null Values within Player Attributes"
   ]
  },
  {
   "cell_type": "markdown",
   "metadata": {},
   "source": [
    "As we had seen in the previous section, players_attr_df is the only table of the three which has missing values."
   ]
  },
  {
   "cell_type": "code",
   "execution_count": 10,
   "metadata": {},
   "outputs": [
    {
     "data": {
      "text/html": [
       "<div>\n",
       "<style scoped>\n",
       "    .dataframe tbody tr th:only-of-type {\n",
       "        vertical-align: middle;\n",
       "    }\n",
       "\n",
       "    .dataframe tbody tr th {\n",
       "        vertical-align: top;\n",
       "    }\n",
       "\n",
       "    .dataframe thead th {\n",
       "        text-align: right;\n",
       "    }\n",
       "</style>\n",
       "<table border=\"1\" class=\"dataframe\">\n",
       "  <thead>\n",
       "    <tr style=\"text-align: right;\">\n",
       "      <th></th>\n",
       "      <th>id</th>\n",
       "      <th>player_fifa_api_id</th>\n",
       "      <th>player_api_id</th>\n",
       "      <th>date</th>\n",
       "      <th>overall_rating</th>\n",
       "      <th>potential</th>\n",
       "      <th>preferred_foot</th>\n",
       "      <th>attacking_work_rate</th>\n",
       "      <th>defensive_work_rate</th>\n",
       "      <th>crossing</th>\n",
       "      <th>...</th>\n",
       "      <th>vision</th>\n",
       "      <th>penalties</th>\n",
       "      <th>marking</th>\n",
       "      <th>standing_tackle</th>\n",
       "      <th>sliding_tackle</th>\n",
       "      <th>gk_diving</th>\n",
       "      <th>gk_handling</th>\n",
       "      <th>gk_kicking</th>\n",
       "      <th>gk_positioning</th>\n",
       "      <th>gk_reflexes</th>\n",
       "    </tr>\n",
       "  </thead>\n",
       "  <tbody>\n",
       "    <tr>\n",
       "      <th>483</th>\n",
       "      <td>484</td>\n",
       "      <td>33022</td>\n",
       "      <td>31684</td>\n",
       "      <td>2007-02-22 00:00:00</td>\n",
       "      <td>NaN</td>\n",
       "      <td>NaN</td>\n",
       "      <td>None</td>\n",
       "      <td>None</td>\n",
       "      <td>None</td>\n",
       "      <td>NaN</td>\n",
       "      <td>...</td>\n",
       "      <td>NaN</td>\n",
       "      <td>NaN</td>\n",
       "      <td>NaN</td>\n",
       "      <td>NaN</td>\n",
       "      <td>NaN</td>\n",
       "      <td>NaN</td>\n",
       "      <td>NaN</td>\n",
       "      <td>NaN</td>\n",
       "      <td>NaN</td>\n",
       "      <td>NaN</td>\n",
       "    </tr>\n",
       "    <tr>\n",
       "      <th>983</th>\n",
       "      <td>984</td>\n",
       "      <td>111085</td>\n",
       "      <td>29904</td>\n",
       "      <td>2007-02-22 00:00:00</td>\n",
       "      <td>NaN</td>\n",
       "      <td>NaN</td>\n",
       "      <td>None</td>\n",
       "      <td>None</td>\n",
       "      <td>None</td>\n",
       "      <td>NaN</td>\n",
       "      <td>...</td>\n",
       "      <td>NaN</td>\n",
       "      <td>NaN</td>\n",
       "      <td>NaN</td>\n",
       "      <td>NaN</td>\n",
       "      <td>NaN</td>\n",
       "      <td>NaN</td>\n",
       "      <td>NaN</td>\n",
       "      <td>NaN</td>\n",
       "      <td>NaN</td>\n",
       "      <td>NaN</td>\n",
       "    </tr>\n",
       "    <tr>\n",
       "      <th>1752</th>\n",
       "      <td>1753</td>\n",
       "      <td>165740</td>\n",
       "      <td>24159</td>\n",
       "      <td>2007-02-22 00:00:00</td>\n",
       "      <td>NaN</td>\n",
       "      <td>NaN</td>\n",
       "      <td>None</td>\n",
       "      <td>None</td>\n",
       "      <td>None</td>\n",
       "      <td>NaN</td>\n",
       "      <td>...</td>\n",
       "      <td>NaN</td>\n",
       "      <td>NaN</td>\n",
       "      <td>NaN</td>\n",
       "      <td>NaN</td>\n",
       "      <td>NaN</td>\n",
       "      <td>NaN</td>\n",
       "      <td>NaN</td>\n",
       "      <td>NaN</td>\n",
       "      <td>NaN</td>\n",
       "      <td>NaN</td>\n",
       "    </tr>\n",
       "    <tr>\n",
       "      <th>2089</th>\n",
       "      <td>2090</td>\n",
       "      <td>176941</td>\n",
       "      <td>31916</td>\n",
       "      <td>2007-02-22 00:00:00</td>\n",
       "      <td>NaN</td>\n",
       "      <td>NaN</td>\n",
       "      <td>None</td>\n",
       "      <td>None</td>\n",
       "      <td>None</td>\n",
       "      <td>NaN</td>\n",
       "      <td>...</td>\n",
       "      <td>NaN</td>\n",
       "      <td>NaN</td>\n",
       "      <td>NaN</td>\n",
       "      <td>NaN</td>\n",
       "      <td>NaN</td>\n",
       "      <td>NaN</td>\n",
       "      <td>NaN</td>\n",
       "      <td>NaN</td>\n",
       "      <td>NaN</td>\n",
       "      <td>NaN</td>\n",
       "    </tr>\n",
       "    <tr>\n",
       "      <th>2482</th>\n",
       "      <td>2483</td>\n",
       "      <td>177615</td>\n",
       "      <td>37249</td>\n",
       "      <td>2007-02-22 00:00:00</td>\n",
       "      <td>NaN</td>\n",
       "      <td>NaN</td>\n",
       "      <td>None</td>\n",
       "      <td>None</td>\n",
       "      <td>None</td>\n",
       "      <td>NaN</td>\n",
       "      <td>...</td>\n",
       "      <td>NaN</td>\n",
       "      <td>NaN</td>\n",
       "      <td>NaN</td>\n",
       "      <td>NaN</td>\n",
       "      <td>NaN</td>\n",
       "      <td>NaN</td>\n",
       "      <td>NaN</td>\n",
       "      <td>NaN</td>\n",
       "      <td>NaN</td>\n",
       "      <td>NaN</td>\n",
       "    </tr>\n",
       "    <tr>\n",
       "      <th>...</th>\n",
       "      <td>...</td>\n",
       "      <td>...</td>\n",
       "      <td>...</td>\n",
       "      <td>...</td>\n",
       "      <td>...</td>\n",
       "      <td>...</td>\n",
       "      <td>...</td>\n",
       "      <td>...</td>\n",
       "      <td>...</td>\n",
       "      <td>...</td>\n",
       "      <td>...</td>\n",
       "      <td>...</td>\n",
       "      <td>...</td>\n",
       "      <td>...</td>\n",
       "      <td>...</td>\n",
       "      <td>...</td>\n",
       "      <td>...</td>\n",
       "      <td>...</td>\n",
       "      <td>...</td>\n",
       "      <td>...</td>\n",
       "      <td>...</td>\n",
       "    </tr>\n",
       "    <tr>\n",
       "      <th>182587</th>\n",
       "      <td>182588</td>\n",
       "      <td>116368</td>\n",
       "      <td>25538</td>\n",
       "      <td>2007-02-22 00:00:00</td>\n",
       "      <td>NaN</td>\n",
       "      <td>NaN</td>\n",
       "      <td>None</td>\n",
       "      <td>None</td>\n",
       "      <td>None</td>\n",
       "      <td>NaN</td>\n",
       "      <td>...</td>\n",
       "      <td>NaN</td>\n",
       "      <td>NaN</td>\n",
       "      <td>NaN</td>\n",
       "      <td>NaN</td>\n",
       "      <td>NaN</td>\n",
       "      <td>NaN</td>\n",
       "      <td>NaN</td>\n",
       "      <td>NaN</td>\n",
       "      <td>NaN</td>\n",
       "      <td>NaN</td>\n",
       "    </tr>\n",
       "    <tr>\n",
       "      <th>183249</th>\n",
       "      <td>183250</td>\n",
       "      <td>139865</td>\n",
       "      <td>32633</td>\n",
       "      <td>2007-02-22 00:00:00</td>\n",
       "      <td>NaN</td>\n",
       "      <td>NaN</td>\n",
       "      <td>None</td>\n",
       "      <td>None</td>\n",
       "      <td>None</td>\n",
       "      <td>NaN</td>\n",
       "      <td>...</td>\n",
       "      <td>NaN</td>\n",
       "      <td>NaN</td>\n",
       "      <td>NaN</td>\n",
       "      <td>NaN</td>\n",
       "      <td>NaN</td>\n",
       "      <td>NaN</td>\n",
       "      <td>NaN</td>\n",
       "      <td>NaN</td>\n",
       "      <td>NaN</td>\n",
       "      <td>NaN</td>\n",
       "    </tr>\n",
       "    <tr>\n",
       "      <th>183309</th>\n",
       "      <td>183310</td>\n",
       "      <td>141272</td>\n",
       "      <td>33823</td>\n",
       "      <td>2007-02-22 00:00:00</td>\n",
       "      <td>NaN</td>\n",
       "      <td>NaN</td>\n",
       "      <td>None</td>\n",
       "      <td>None</td>\n",
       "      <td>None</td>\n",
       "      <td>NaN</td>\n",
       "      <td>...</td>\n",
       "      <td>NaN</td>\n",
       "      <td>NaN</td>\n",
       "      <td>NaN</td>\n",
       "      <td>NaN</td>\n",
       "      <td>NaN</td>\n",
       "      <td>NaN</td>\n",
       "      <td>NaN</td>\n",
       "      <td>NaN</td>\n",
       "      <td>NaN</td>\n",
       "      <td>NaN</td>\n",
       "    </tr>\n",
       "    <tr>\n",
       "      <th>183361</th>\n",
       "      <td>183362</td>\n",
       "      <td>168650</td>\n",
       "      <td>25772</td>\n",
       "      <td>2007-02-22 00:00:00</td>\n",
       "      <td>NaN</td>\n",
       "      <td>NaN</td>\n",
       "      <td>None</td>\n",
       "      <td>None</td>\n",
       "      <td>None</td>\n",
       "      <td>NaN</td>\n",
       "      <td>...</td>\n",
       "      <td>NaN</td>\n",
       "      <td>NaN</td>\n",
       "      <td>NaN</td>\n",
       "      <td>NaN</td>\n",
       "      <td>NaN</td>\n",
       "      <td>NaN</td>\n",
       "      <td>NaN</td>\n",
       "      <td>NaN</td>\n",
       "      <td>NaN</td>\n",
       "      <td>NaN</td>\n",
       "    </tr>\n",
       "    <tr>\n",
       "      <th>183487</th>\n",
       "      <td>183488</td>\n",
       "      <td>28765</td>\n",
       "      <td>38843</td>\n",
       "      <td>2007-02-22 00:00:00</td>\n",
       "      <td>NaN</td>\n",
       "      <td>NaN</td>\n",
       "      <td>None</td>\n",
       "      <td>None</td>\n",
       "      <td>None</td>\n",
       "      <td>NaN</td>\n",
       "      <td>...</td>\n",
       "      <td>NaN</td>\n",
       "      <td>NaN</td>\n",
       "      <td>NaN</td>\n",
       "      <td>NaN</td>\n",
       "      <td>NaN</td>\n",
       "      <td>NaN</td>\n",
       "      <td>NaN</td>\n",
       "      <td>NaN</td>\n",
       "      <td>NaN</td>\n",
       "      <td>NaN</td>\n",
       "    </tr>\n",
       "  </tbody>\n",
       "</table>\n",
       "<p>836 rows × 42 columns</p>\n",
       "</div>"
      ],
      "text/plain": [
       "            id  player_fifa_api_id  player_api_id                 date  \\\n",
       "483        484               33022          31684  2007-02-22 00:00:00   \n",
       "983        984              111085          29904  2007-02-22 00:00:00   \n",
       "1752      1753              165740          24159  2007-02-22 00:00:00   \n",
       "2089      2090              176941          31916  2007-02-22 00:00:00   \n",
       "2482      2483              177615          37249  2007-02-22 00:00:00   \n",
       "...        ...                 ...            ...                  ...   \n",
       "182587  182588              116368          25538  2007-02-22 00:00:00   \n",
       "183249  183250              139865          32633  2007-02-22 00:00:00   \n",
       "183309  183310              141272          33823  2007-02-22 00:00:00   \n",
       "183361  183362              168650          25772  2007-02-22 00:00:00   \n",
       "183487  183488               28765          38843  2007-02-22 00:00:00   \n",
       "\n",
       "        overall_rating  potential preferred_foot attacking_work_rate  \\\n",
       "483                NaN        NaN           None                None   \n",
       "983                NaN        NaN           None                None   \n",
       "1752               NaN        NaN           None                None   \n",
       "2089               NaN        NaN           None                None   \n",
       "2482               NaN        NaN           None                None   \n",
       "...                ...        ...            ...                 ...   \n",
       "182587             NaN        NaN           None                None   \n",
       "183249             NaN        NaN           None                None   \n",
       "183309             NaN        NaN           None                None   \n",
       "183361             NaN        NaN           None                None   \n",
       "183487             NaN        NaN           None                None   \n",
       "\n",
       "       defensive_work_rate  crossing  ...  vision  penalties  marking  \\\n",
       "483                   None       NaN  ...     NaN        NaN      NaN   \n",
       "983                   None       NaN  ...     NaN        NaN      NaN   \n",
       "1752                  None       NaN  ...     NaN        NaN      NaN   \n",
       "2089                  None       NaN  ...     NaN        NaN      NaN   \n",
       "2482                  None       NaN  ...     NaN        NaN      NaN   \n",
       "...                    ...       ...  ...     ...        ...      ...   \n",
       "182587                None       NaN  ...     NaN        NaN      NaN   \n",
       "183249                None       NaN  ...     NaN        NaN      NaN   \n",
       "183309                None       NaN  ...     NaN        NaN      NaN   \n",
       "183361                None       NaN  ...     NaN        NaN      NaN   \n",
       "183487                None       NaN  ...     NaN        NaN      NaN   \n",
       "\n",
       "        standing_tackle  sliding_tackle  gk_diving  gk_handling  gk_kicking  \\\n",
       "483                 NaN             NaN        NaN          NaN         NaN   \n",
       "983                 NaN             NaN        NaN          NaN         NaN   \n",
       "1752                NaN             NaN        NaN          NaN         NaN   \n",
       "2089                NaN             NaN        NaN          NaN         NaN   \n",
       "2482                NaN             NaN        NaN          NaN         NaN   \n",
       "...                 ...             ...        ...          ...         ...   \n",
       "182587              NaN             NaN        NaN          NaN         NaN   \n",
       "183249              NaN             NaN        NaN          NaN         NaN   \n",
       "183309              NaN             NaN        NaN          NaN         NaN   \n",
       "183361              NaN             NaN        NaN          NaN         NaN   \n",
       "183487              NaN             NaN        NaN          NaN         NaN   \n",
       "\n",
       "        gk_positioning  gk_reflexes  \n",
       "483                NaN          NaN  \n",
       "983                NaN          NaN  \n",
       "1752               NaN          NaN  \n",
       "2089               NaN          NaN  \n",
       "2482               NaN          NaN  \n",
       "...                ...          ...  \n",
       "182587             NaN          NaN  \n",
       "183249             NaN          NaN  \n",
       "183309             NaN          NaN  \n",
       "183361             NaN          NaN  \n",
       "183487             NaN          NaN  \n",
       "\n",
       "[836 rows x 42 columns]"
      ]
     },
     "execution_count": 10,
     "metadata": {},
     "output_type": "execute_result"
    }
   ],
   "source": [
    "player_attr_df[player_attr_df['overall_rating'].isna()==True]"
   ]
  },
  {
   "cell_type": "markdown",
   "metadata": {},
   "source": [
    "When filtering for all the null values in *overall_rating* we see that the other columns like *potential, preferred_foot, attacking_work_rate* etc. are null as well. Let's see what happens when we remove these null rows."
   ]
  },
  {
   "cell_type": "code",
   "execution_count": 11,
   "metadata": {},
   "outputs": [
    {
     "name": "stdout",
     "output_type": "stream",
     "text": [
      "<class 'pandas.core.frame.DataFrame'>\n",
      "Int64Index: 183142 entries, 0 to 183977\n",
      "Data columns (total 42 columns):\n",
      " #   Column               Non-Null Count   Dtype  \n",
      "---  ------               --------------   -----  \n",
      " 0   id                   183142 non-null  int64  \n",
      " 1   player_fifa_api_id   183142 non-null  int64  \n",
      " 2   player_api_id        183142 non-null  int64  \n",
      " 3   date                 183142 non-null  object \n",
      " 4   overall_rating       183142 non-null  float64\n",
      " 5   potential            183142 non-null  float64\n",
      " 6   preferred_foot       183142 non-null  object \n",
      " 7   attacking_work_rate  180748 non-null  object \n",
      " 8   defensive_work_rate  183142 non-null  object \n",
      " 9   crossing             183142 non-null  float64\n",
      " 10  finishing            183142 non-null  float64\n",
      " 11  heading_accuracy     183142 non-null  float64\n",
      " 12  short_passing        183142 non-null  float64\n",
      " 13  volleys              181265 non-null  float64\n",
      " 14  dribbling            183142 non-null  float64\n",
      " 15  curve                181265 non-null  float64\n",
      " 16  free_kick_accuracy   183142 non-null  float64\n",
      " 17  long_passing         183142 non-null  float64\n",
      " 18  ball_control         183142 non-null  float64\n",
      " 19  acceleration         183142 non-null  float64\n",
      " 20  sprint_speed         183142 non-null  float64\n",
      " 21  agility              181265 non-null  float64\n",
      " 22  reactions            183142 non-null  float64\n",
      " 23  balance              181265 non-null  float64\n",
      " 24  shot_power           183142 non-null  float64\n",
      " 25  jumping              181265 non-null  float64\n",
      " 26  stamina              183142 non-null  float64\n",
      " 27  strength             183142 non-null  float64\n",
      " 28  long_shots           183142 non-null  float64\n",
      " 29  aggression           183142 non-null  float64\n",
      " 30  interceptions        183142 non-null  float64\n",
      " 31  positioning          183142 non-null  float64\n",
      " 32  vision               181265 non-null  float64\n",
      " 33  penalties            183142 non-null  float64\n",
      " 34  marking              183142 non-null  float64\n",
      " 35  standing_tackle      183142 non-null  float64\n",
      " 36  sliding_tackle       181265 non-null  float64\n",
      " 37  gk_diving            183142 non-null  float64\n",
      " 38  gk_handling          183142 non-null  float64\n",
      " 39  gk_kicking           183142 non-null  float64\n",
      " 40  gk_positioning       183142 non-null  float64\n",
      " 41  gk_reflexes          183142 non-null  float64\n",
      "dtypes: float64(35), int64(3), object(4)\n",
      "memory usage: 60.1+ MB\n"
     ]
    }
   ],
   "source": [
    "player_attr_df.dropna(subset=['overall_rating']).info()"
   ]
  },
  {
   "cell_type": "markdown",
   "metadata": {},
   "source": [
    "We see there are additional null values in columns like *attacking_work_rate*"
   ]
  },
  {
   "cell_type": "code",
   "execution_count": 12,
   "metadata": {},
   "outputs": [
    {
     "data": {
      "text/html": [
       "<div>\n",
       "<style scoped>\n",
       "    .dataframe tbody tr th:only-of-type {\n",
       "        vertical-align: middle;\n",
       "    }\n",
       "\n",
       "    .dataframe tbody tr th {\n",
       "        vertical-align: top;\n",
       "    }\n",
       "\n",
       "    .dataframe thead th {\n",
       "        text-align: right;\n",
       "    }\n",
       "</style>\n",
       "<table border=\"1\" class=\"dataframe\">\n",
       "  <thead>\n",
       "    <tr style=\"text-align: right;\">\n",
       "      <th></th>\n",
       "      <th>id</th>\n",
       "      <th>player_fifa_api_id</th>\n",
       "      <th>player_api_id</th>\n",
       "      <th>date</th>\n",
       "      <th>overall_rating</th>\n",
       "      <th>potential</th>\n",
       "      <th>preferred_foot</th>\n",
       "      <th>attacking_work_rate</th>\n",
       "      <th>defensive_work_rate</th>\n",
       "      <th>crossing</th>\n",
       "      <th>...</th>\n",
       "      <th>vision</th>\n",
       "      <th>penalties</th>\n",
       "      <th>marking</th>\n",
       "      <th>standing_tackle</th>\n",
       "      <th>sliding_tackle</th>\n",
       "      <th>gk_diving</th>\n",
       "      <th>gk_handling</th>\n",
       "      <th>gk_kicking</th>\n",
       "      <th>gk_positioning</th>\n",
       "      <th>gk_reflexes</th>\n",
       "    </tr>\n",
       "  </thead>\n",
       "  <tbody>\n",
       "    <tr>\n",
       "      <th>373</th>\n",
       "      <td>374</td>\n",
       "      <td>156626</td>\n",
       "      <td>46447</td>\n",
       "      <td>2010-08-30 00:00:00</td>\n",
       "      <td>64.0</td>\n",
       "      <td>71.0</td>\n",
       "      <td>right</td>\n",
       "      <td>None</td>\n",
       "      <td>_0</td>\n",
       "      <td>41.0</td>\n",
       "      <td>...</td>\n",
       "      <td>61.0</td>\n",
       "      <td>39.0</td>\n",
       "      <td>62.0</td>\n",
       "      <td>61.0</td>\n",
       "      <td>57.0</td>\n",
       "      <td>15.0</td>\n",
       "      <td>14.0</td>\n",
       "      <td>13.0</td>\n",
       "      <td>10.0</td>\n",
       "      <td>12.0</td>\n",
       "    </tr>\n",
       "    <tr>\n",
       "      <th>374</th>\n",
       "      <td>375</td>\n",
       "      <td>156626</td>\n",
       "      <td>46447</td>\n",
       "      <td>2010-02-22 00:00:00</td>\n",
       "      <td>64.0</td>\n",
       "      <td>71.0</td>\n",
       "      <td>right</td>\n",
       "      <td>None</td>\n",
       "      <td>_0</td>\n",
       "      <td>41.0</td>\n",
       "      <td>...</td>\n",
       "      <td>61.0</td>\n",
       "      <td>58.0</td>\n",
       "      <td>62.0</td>\n",
       "      <td>61.0</td>\n",
       "      <td>57.0</td>\n",
       "      <td>6.0</td>\n",
       "      <td>20.0</td>\n",
       "      <td>45.0</td>\n",
       "      <td>20.0</td>\n",
       "      <td>20.0</td>\n",
       "    </tr>\n",
       "    <tr>\n",
       "      <th>375</th>\n",
       "      <td>376</td>\n",
       "      <td>156626</td>\n",
       "      <td>46447</td>\n",
       "      <td>2008-08-30 00:00:00</td>\n",
       "      <td>66.0</td>\n",
       "      <td>71.0</td>\n",
       "      <td>right</td>\n",
       "      <td>None</td>\n",
       "      <td>_0</td>\n",
       "      <td>41.0</td>\n",
       "      <td>...</td>\n",
       "      <td>61.0</td>\n",
       "      <td>58.0</td>\n",
       "      <td>67.0</td>\n",
       "      <td>61.0</td>\n",
       "      <td>57.0</td>\n",
       "      <td>6.0</td>\n",
       "      <td>20.0</td>\n",
       "      <td>45.0</td>\n",
       "      <td>20.0</td>\n",
       "      <td>20.0</td>\n",
       "    </tr>\n",
       "    <tr>\n",
       "      <th>376</th>\n",
       "      <td>377</td>\n",
       "      <td>156626</td>\n",
       "      <td>46447</td>\n",
       "      <td>2007-08-30 00:00:00</td>\n",
       "      <td>68.0</td>\n",
       "      <td>75.0</td>\n",
       "      <td>right</td>\n",
       "      <td>None</td>\n",
       "      <td>_0</td>\n",
       "      <td>41.0</td>\n",
       "      <td>...</td>\n",
       "      <td>61.0</td>\n",
       "      <td>58.0</td>\n",
       "      <td>69.0</td>\n",
       "      <td>64.0</td>\n",
       "      <td>57.0</td>\n",
       "      <td>6.0</td>\n",
       "      <td>20.0</td>\n",
       "      <td>45.0</td>\n",
       "      <td>20.0</td>\n",
       "      <td>20.0</td>\n",
       "    </tr>\n",
       "    <tr>\n",
       "      <th>377</th>\n",
       "      <td>378</td>\n",
       "      <td>156626</td>\n",
       "      <td>46447</td>\n",
       "      <td>2007-02-22 00:00:00</td>\n",
       "      <td>66.0</td>\n",
       "      <td>65.0</td>\n",
       "      <td>right</td>\n",
       "      <td>None</td>\n",
       "      <td>_0</td>\n",
       "      <td>41.0</td>\n",
       "      <td>...</td>\n",
       "      <td>61.0</td>\n",
       "      <td>55.0</td>\n",
       "      <td>66.0</td>\n",
       "      <td>63.0</td>\n",
       "      <td>57.0</td>\n",
       "      <td>6.0</td>\n",
       "      <td>9.0</td>\n",
       "      <td>45.0</td>\n",
       "      <td>13.0</td>\n",
       "      <td>10.0</td>\n",
       "    </tr>\n",
       "    <tr>\n",
       "      <th>...</th>\n",
       "      <td>...</td>\n",
       "      <td>...</td>\n",
       "      <td>...</td>\n",
       "      <td>...</td>\n",
       "      <td>...</td>\n",
       "      <td>...</td>\n",
       "      <td>...</td>\n",
       "      <td>...</td>\n",
       "      <td>...</td>\n",
       "      <td>...</td>\n",
       "      <td>...</td>\n",
       "      <td>...</td>\n",
       "      <td>...</td>\n",
       "      <td>...</td>\n",
       "      <td>...</td>\n",
       "      <td>...</td>\n",
       "      <td>...</td>\n",
       "      <td>...</td>\n",
       "      <td>...</td>\n",
       "      <td>...</td>\n",
       "      <td>...</td>\n",
       "    </tr>\n",
       "    <tr>\n",
       "      <th>183963</th>\n",
       "      <td>183964</td>\n",
       "      <td>47058</td>\n",
       "      <td>35506</td>\n",
       "      <td>2009-08-30 00:00:00</td>\n",
       "      <td>70.0</td>\n",
       "      <td>78.0</td>\n",
       "      <td>right</td>\n",
       "      <td>None</td>\n",
       "      <td>_0</td>\n",
       "      <td>48.0</td>\n",
       "      <td>...</td>\n",
       "      <td>63.0</td>\n",
       "      <td>70.0</td>\n",
       "      <td>70.0</td>\n",
       "      <td>74.0</td>\n",
       "      <td>65.0</td>\n",
       "      <td>14.0</td>\n",
       "      <td>25.0</td>\n",
       "      <td>51.0</td>\n",
       "      <td>25.0</td>\n",
       "      <td>25.0</td>\n",
       "    </tr>\n",
       "    <tr>\n",
       "      <th>183964</th>\n",
       "      <td>183965</td>\n",
       "      <td>47058</td>\n",
       "      <td>35506</td>\n",
       "      <td>2009-02-22 00:00:00</td>\n",
       "      <td>70.0</td>\n",
       "      <td>78.0</td>\n",
       "      <td>right</td>\n",
       "      <td>None</td>\n",
       "      <td>_0</td>\n",
       "      <td>48.0</td>\n",
       "      <td>...</td>\n",
       "      <td>63.0</td>\n",
       "      <td>70.0</td>\n",
       "      <td>70.0</td>\n",
       "      <td>74.0</td>\n",
       "      <td>65.0</td>\n",
       "      <td>14.0</td>\n",
       "      <td>25.0</td>\n",
       "      <td>51.0</td>\n",
       "      <td>25.0</td>\n",
       "      <td>25.0</td>\n",
       "    </tr>\n",
       "    <tr>\n",
       "      <th>183965</th>\n",
       "      <td>183966</td>\n",
       "      <td>47058</td>\n",
       "      <td>35506</td>\n",
       "      <td>2008-08-30 00:00:00</td>\n",
       "      <td>72.0</td>\n",
       "      <td>78.0</td>\n",
       "      <td>right</td>\n",
       "      <td>None</td>\n",
       "      <td>_0</td>\n",
       "      <td>48.0</td>\n",
       "      <td>...</td>\n",
       "      <td>63.0</td>\n",
       "      <td>70.0</td>\n",
       "      <td>76.0</td>\n",
       "      <td>78.0</td>\n",
       "      <td>65.0</td>\n",
       "      <td>14.0</td>\n",
       "      <td>25.0</td>\n",
       "      <td>51.0</td>\n",
       "      <td>25.0</td>\n",
       "      <td>25.0</td>\n",
       "    </tr>\n",
       "    <tr>\n",
       "      <th>183966</th>\n",
       "      <td>183967</td>\n",
       "      <td>47058</td>\n",
       "      <td>35506</td>\n",
       "      <td>2007-08-30 00:00:00</td>\n",
       "      <td>75.0</td>\n",
       "      <td>78.0</td>\n",
       "      <td>right</td>\n",
       "      <td>None</td>\n",
       "      <td>_0</td>\n",
       "      <td>48.0</td>\n",
       "      <td>...</td>\n",
       "      <td>63.0</td>\n",
       "      <td>70.0</td>\n",
       "      <td>76.0</td>\n",
       "      <td>78.0</td>\n",
       "      <td>65.0</td>\n",
       "      <td>14.0</td>\n",
       "      <td>25.0</td>\n",
       "      <td>51.0</td>\n",
       "      <td>25.0</td>\n",
       "      <td>25.0</td>\n",
       "    </tr>\n",
       "    <tr>\n",
       "      <th>183967</th>\n",
       "      <td>183968</td>\n",
       "      <td>47058</td>\n",
       "      <td>35506</td>\n",
       "      <td>2007-02-22 00:00:00</td>\n",
       "      <td>78.0</td>\n",
       "      <td>79.0</td>\n",
       "      <td>right</td>\n",
       "      <td>None</td>\n",
       "      <td>_0</td>\n",
       "      <td>38.0</td>\n",
       "      <td>...</td>\n",
       "      <td>63.0</td>\n",
       "      <td>72.0</td>\n",
       "      <td>79.0</td>\n",
       "      <td>84.0</td>\n",
       "      <td>65.0</td>\n",
       "      <td>14.0</td>\n",
       "      <td>9.0</td>\n",
       "      <td>48.0</td>\n",
       "      <td>7.0</td>\n",
       "      <td>11.0</td>\n",
       "    </tr>\n",
       "  </tbody>\n",
       "</table>\n",
       "<p>3230 rows × 42 columns</p>\n",
       "</div>"
      ],
      "text/plain": [
       "            id  player_fifa_api_id  player_api_id                 date  \\\n",
       "373        374              156626          46447  2010-08-30 00:00:00   \n",
       "374        375              156626          46447  2010-02-22 00:00:00   \n",
       "375        376              156626          46447  2008-08-30 00:00:00   \n",
       "376        377              156626          46447  2007-08-30 00:00:00   \n",
       "377        378              156626          46447  2007-02-22 00:00:00   \n",
       "...        ...                 ...            ...                  ...   \n",
       "183963  183964               47058          35506  2009-08-30 00:00:00   \n",
       "183964  183965               47058          35506  2009-02-22 00:00:00   \n",
       "183965  183966               47058          35506  2008-08-30 00:00:00   \n",
       "183966  183967               47058          35506  2007-08-30 00:00:00   \n",
       "183967  183968               47058          35506  2007-02-22 00:00:00   \n",
       "\n",
       "        overall_rating  potential preferred_foot attacking_work_rate  \\\n",
       "373               64.0       71.0          right                None   \n",
       "374               64.0       71.0          right                None   \n",
       "375               66.0       71.0          right                None   \n",
       "376               68.0       75.0          right                None   \n",
       "377               66.0       65.0          right                None   \n",
       "...                ...        ...            ...                 ...   \n",
       "183963            70.0       78.0          right                None   \n",
       "183964            70.0       78.0          right                None   \n",
       "183965            72.0       78.0          right                None   \n",
       "183966            75.0       78.0          right                None   \n",
       "183967            78.0       79.0          right                None   \n",
       "\n",
       "       defensive_work_rate  crossing  ...  vision  penalties  marking  \\\n",
       "373                     _0      41.0  ...    61.0       39.0     62.0   \n",
       "374                     _0      41.0  ...    61.0       58.0     62.0   \n",
       "375                     _0      41.0  ...    61.0       58.0     67.0   \n",
       "376                     _0      41.0  ...    61.0       58.0     69.0   \n",
       "377                     _0      41.0  ...    61.0       55.0     66.0   \n",
       "...                    ...       ...  ...     ...        ...      ...   \n",
       "183963                  _0      48.0  ...    63.0       70.0     70.0   \n",
       "183964                  _0      48.0  ...    63.0       70.0     70.0   \n",
       "183965                  _0      48.0  ...    63.0       70.0     76.0   \n",
       "183966                  _0      48.0  ...    63.0       70.0     76.0   \n",
       "183967                  _0      38.0  ...    63.0       72.0     79.0   \n",
       "\n",
       "        standing_tackle  sliding_tackle  gk_diving  gk_handling  gk_kicking  \\\n",
       "373                61.0            57.0       15.0         14.0        13.0   \n",
       "374                61.0            57.0        6.0         20.0        45.0   \n",
       "375                61.0            57.0        6.0         20.0        45.0   \n",
       "376                64.0            57.0        6.0         20.0        45.0   \n",
       "377                63.0            57.0        6.0          9.0        45.0   \n",
       "...                 ...             ...        ...          ...         ...   \n",
       "183963             74.0            65.0       14.0         25.0        51.0   \n",
       "183964             74.0            65.0       14.0         25.0        51.0   \n",
       "183965             78.0            65.0       14.0         25.0        51.0   \n",
       "183966             78.0            65.0       14.0         25.0        51.0   \n",
       "183967             84.0            65.0       14.0          9.0        48.0   \n",
       "\n",
       "        gk_positioning  gk_reflexes  \n",
       "373               10.0         12.0  \n",
       "374               20.0         20.0  \n",
       "375               20.0         20.0  \n",
       "376               20.0         20.0  \n",
       "377               13.0         10.0  \n",
       "...                ...          ...  \n",
       "183963            25.0         25.0  \n",
       "183964            25.0         25.0  \n",
       "183965            25.0         25.0  \n",
       "183966            25.0         25.0  \n",
       "183967             7.0         11.0  \n",
       "\n",
       "[3230 rows x 42 columns]"
      ]
     },
     "execution_count": 12,
     "metadata": {},
     "output_type": "execute_result"
    }
   ],
   "source": [
    "player_attr_df[player_attr_df['attacking_work_rate'].isna()==True]"
   ]
  },
  {
   "cell_type": "markdown",
   "metadata": {},
   "source": [
    "Along with the missing values in column *attacking_work_rate* we see that columns like *defensive_work_rate* has values like *_0*. This makes me curious to see what unique values these object columns hold"
   ]
  },
  {
   "cell_type": "code",
   "execution_count": 13,
   "metadata": {},
   "outputs": [
    {
     "data": {
      "text/plain": [
       "array(['medium', 'high', None, 'low', 'None', 'le', 'norm', 'stoc', 'y'],\n",
       "      dtype=object)"
      ]
     },
     "execution_count": 13,
     "metadata": {},
     "output_type": "execute_result"
    }
   ],
   "source": [
    "player_attr_df['attacking_work_rate'].unique()"
   ]
  },
  {
   "cell_type": "code",
   "execution_count": 14,
   "metadata": {},
   "outputs": [
    {
     "data": {
      "text/plain": [
       "array(['medium', 'high', 'low', '_0', None, '5', 'ean', 'o', '1', 'ormal',\n",
       "       '7', '2', '8', '4', 'tocky', '0', '3', '6', '9', 'es'],\n",
       "      dtype=object)"
      ]
     },
     "execution_count": 14,
     "metadata": {},
     "output_type": "execute_result"
    }
   ],
   "source": [
    "player_attr_df['defensive_work_rate'].unique()"
   ]
  },
  {
   "cell_type": "markdown",
   "metadata": {},
   "source": [
    "We now see that in addition to just the standard values for these columns (*low, medium and high*), there are some garbage values as well. We would need to clean these as well."
   ]
  },
  {
   "cell_type": "code",
   "execution_count": 15,
   "metadata": {},
   "outputs": [],
   "source": [
    "player_attr_df = player_attr_df[((player_attr_df['attacking_work_rate']=='high') |\n",
    "                (player_attr_df['attacking_work_rate']=='medium') |\n",
    "                (player_attr_df['attacking_work_rate']=='low')) &\n",
    "               ((player_attr_df['defensive_work_rate']=='high') |\n",
    "                (player_attr_df['defensive_work_rate']=='medium') |\n",
    "                (player_attr_df['defensive_work_rate']=='low'))\n",
    "              ]\n",
    "\n"
   ]
  },
  {
   "cell_type": "code",
   "execution_count": 16,
   "metadata": {},
   "outputs": [
    {
     "name": "stdout",
     "output_type": "stream",
     "text": [
      "<class 'pandas.core.frame.DataFrame'>\n",
      "Int64Index: 176161 entries, 0 to 183977\n",
      "Data columns (total 42 columns):\n",
      " #   Column               Non-Null Count   Dtype  \n",
      "---  ------               --------------   -----  \n",
      " 0   id                   176161 non-null  int64  \n",
      " 1   player_fifa_api_id   176161 non-null  int64  \n",
      " 2   player_api_id        176161 non-null  int64  \n",
      " 3   date                 176161 non-null  object \n",
      " 4   overall_rating       176161 non-null  float64\n",
      " 5   potential            176161 non-null  float64\n",
      " 6   preferred_foot       176161 non-null  object \n",
      " 7   attacking_work_rate  176161 non-null  object \n",
      " 8   defensive_work_rate  176161 non-null  object \n",
      " 9   crossing             176161 non-null  float64\n",
      " 10  finishing            176161 non-null  float64\n",
      " 11  heading_accuracy     176161 non-null  float64\n",
      " 12  short_passing        176161 non-null  float64\n",
      " 13  volleys              176161 non-null  float64\n",
      " 14  dribbling            176161 non-null  float64\n",
      " 15  curve                176161 non-null  float64\n",
      " 16  free_kick_accuracy   176161 non-null  float64\n",
      " 17  long_passing         176161 non-null  float64\n",
      " 18  ball_control         176161 non-null  float64\n",
      " 19  acceleration         176161 non-null  float64\n",
      " 20  sprint_speed         176161 non-null  float64\n",
      " 21  agility              176161 non-null  float64\n",
      " 22  reactions            176161 non-null  float64\n",
      " 23  balance              176161 non-null  float64\n",
      " 24  shot_power           176161 non-null  float64\n",
      " 25  jumping              176161 non-null  float64\n",
      " 26  stamina              176161 non-null  float64\n",
      " 27  strength             176161 non-null  float64\n",
      " 28  long_shots           176161 non-null  float64\n",
      " 29  aggression           176161 non-null  float64\n",
      " 30  interceptions        176161 non-null  float64\n",
      " 31  positioning          176161 non-null  float64\n",
      " 32  vision               176161 non-null  float64\n",
      " 33  penalties            176161 non-null  float64\n",
      " 34  marking              176161 non-null  float64\n",
      " 35  standing_tackle      176161 non-null  float64\n",
      " 36  sliding_tackle       176161 non-null  float64\n",
      " 37  gk_diving            176161 non-null  float64\n",
      " 38  gk_handling          176161 non-null  float64\n",
      " 39  gk_kicking           176161 non-null  float64\n",
      " 40  gk_positioning       176161 non-null  float64\n",
      " 41  gk_reflexes          176161 non-null  float64\n",
      "dtypes: float64(35), int64(3), object(4)\n",
      "memory usage: 57.8+ MB\n"
     ]
    }
   ],
   "source": [
    "player_attr_df.info()"
   ]
  },
  {
   "cell_type": "markdown",
   "metadata": {},
   "source": [
    "We can see now that we have no missing values. We would make sure if there are no garbage values for other columns. Since, `preferred_foot` is the only other column with object values, we would check what values it holds."
   ]
  },
  {
   "cell_type": "code",
   "execution_count": 17,
   "metadata": {},
   "outputs": [
    {
     "data": {
      "text/plain": [
       "array(['right', 'left'], dtype=object)"
      ]
     },
     "execution_count": 17,
     "metadata": {},
     "output_type": "execute_result"
    }
   ],
   "source": [
    "player_attr_df['preferred_foot'].unique()"
   ]
  },
  {
   "cell_type": "markdown",
   "metadata": {},
   "source": [
    "`preferred_foot` does not require any cleaning up since the values `right` and `left` make sense as a player can only be either of one."
   ]
  },
  {
   "cell_type": "code",
   "execution_count": 18,
   "metadata": {
    "scrolled": true
   },
   "outputs": [
    {
     "data": {
      "text/html": [
       "<div>\n",
       "<style scoped>\n",
       "    .dataframe tbody tr th:only-of-type {\n",
       "        vertical-align: middle;\n",
       "    }\n",
       "\n",
       "    .dataframe tbody tr th {\n",
       "        vertical-align: top;\n",
       "    }\n",
       "\n",
       "    .dataframe thead th {\n",
       "        text-align: right;\n",
       "    }\n",
       "</style>\n",
       "<table border=\"1\" class=\"dataframe\">\n",
       "  <thead>\n",
       "    <tr style=\"text-align: right;\">\n",
       "      <th></th>\n",
       "      <th>id</th>\n",
       "      <th>player_fifa_api_id</th>\n",
       "      <th>player_api_id</th>\n",
       "      <th>overall_rating</th>\n",
       "      <th>potential</th>\n",
       "      <th>crossing</th>\n",
       "      <th>finishing</th>\n",
       "      <th>heading_accuracy</th>\n",
       "      <th>short_passing</th>\n",
       "      <th>volleys</th>\n",
       "      <th>...</th>\n",
       "      <th>vision</th>\n",
       "      <th>penalties</th>\n",
       "      <th>marking</th>\n",
       "      <th>standing_tackle</th>\n",
       "      <th>sliding_tackle</th>\n",
       "      <th>gk_diving</th>\n",
       "      <th>gk_handling</th>\n",
       "      <th>gk_kicking</th>\n",
       "      <th>gk_positioning</th>\n",
       "      <th>gk_reflexes</th>\n",
       "    </tr>\n",
       "  </thead>\n",
       "  <tbody>\n",
       "    <tr>\n",
       "      <th>count</th>\n",
       "      <td>176161.000000</td>\n",
       "      <td>176161.000000</td>\n",
       "      <td>176161.000000</td>\n",
       "      <td>176161.000000</td>\n",
       "      <td>176161.000000</td>\n",
       "      <td>176161.000000</td>\n",
       "      <td>176161.000000</td>\n",
       "      <td>176161.000000</td>\n",
       "      <td>176161.000000</td>\n",
       "      <td>176161.000000</td>\n",
       "      <td>...</td>\n",
       "      <td>176161.000000</td>\n",
       "      <td>176161.000000</td>\n",
       "      <td>176161.000000</td>\n",
       "      <td>176161.000000</td>\n",
       "      <td>176161.000000</td>\n",
       "      <td>176161.000000</td>\n",
       "      <td>176161.000000</td>\n",
       "      <td>176161.000000</td>\n",
       "      <td>176161.000000</td>\n",
       "      <td>176161.000000</td>\n",
       "    </tr>\n",
       "    <tr>\n",
       "      <th>mean</th>\n",
       "      <td>91840.417033</td>\n",
       "      <td>167305.852311</td>\n",
       "      <td>138278.214866</td>\n",
       "      <td>68.690857</td>\n",
       "      <td>73.519337</td>\n",
       "      <td>55.212573</td>\n",
       "      <td>50.048217</td>\n",
       "      <td>57.262805</td>\n",
       "      <td>62.542146</td>\n",
       "      <td>49.577687</td>\n",
       "      <td>...</td>\n",
       "      <td>57.887660</td>\n",
       "      <td>54.941082</td>\n",
       "      <td>46.727908</td>\n",
       "      <td>50.343180</td>\n",
       "      <td>48.025204</td>\n",
       "      <td>14.721266</td>\n",
       "      <td>15.892661</td>\n",
       "      <td>20.249420</td>\n",
       "      <td>15.962211</td>\n",
       "      <td>16.276679</td>\n",
       "    </tr>\n",
       "    <tr>\n",
       "      <th>std</th>\n",
       "      <td>53130.276666</td>\n",
       "      <td>52383.037960</td>\n",
       "      <td>137882.077955</td>\n",
       "      <td>7.023502</td>\n",
       "      <td>6.578955</td>\n",
       "      <td>17.260152</td>\n",
       "      <td>19.032411</td>\n",
       "      <td>16.497744</td>\n",
       "      <td>14.183990</td>\n",
       "      <td>18.265310</td>\n",
       "      <td>...</td>\n",
       "      <td>15.160678</td>\n",
       "      <td>15.555754</td>\n",
       "      <td>21.241315</td>\n",
       "      <td>21.520424</td>\n",
       "      <td>21.621540</td>\n",
       "      <td>16.865240</td>\n",
       "      <td>15.863331</td>\n",
       "      <td>20.955093</td>\n",
       "      <td>16.092080</td>\n",
       "      <td>17.217545</td>\n",
       "    </tr>\n",
       "    <tr>\n",
       "      <th>min</th>\n",
       "      <td>1.000000</td>\n",
       "      <td>2.000000</td>\n",
       "      <td>2625.000000</td>\n",
       "      <td>33.000000</td>\n",
       "      <td>39.000000</td>\n",
       "      <td>1.000000</td>\n",
       "      <td>1.000000</td>\n",
       "      <td>1.000000</td>\n",
       "      <td>3.000000</td>\n",
       "      <td>1.000000</td>\n",
       "      <td>...</td>\n",
       "      <td>1.000000</td>\n",
       "      <td>2.000000</td>\n",
       "      <td>1.000000</td>\n",
       "      <td>1.000000</td>\n",
       "      <td>2.000000</td>\n",
       "      <td>1.000000</td>\n",
       "      <td>1.000000</td>\n",
       "      <td>1.000000</td>\n",
       "      <td>1.000000</td>\n",
       "      <td>1.000000</td>\n",
       "    </tr>\n",
       "    <tr>\n",
       "      <th>25%</th>\n",
       "      <td>45788.000000</td>\n",
       "      <td>157304.000000</td>\n",
       "      <td>35495.000000</td>\n",
       "      <td>64.000000</td>\n",
       "      <td>69.000000</td>\n",
       "      <td>45.000000</td>\n",
       "      <td>34.000000</td>\n",
       "      <td>49.000000</td>\n",
       "      <td>57.000000</td>\n",
       "      <td>36.000000</td>\n",
       "      <td>...</td>\n",
       "      <td>49.000000</td>\n",
       "      <td>45.000000</td>\n",
       "      <td>25.000000</td>\n",
       "      <td>29.000000</td>\n",
       "      <td>25.000000</td>\n",
       "      <td>7.000000</td>\n",
       "      <td>8.000000</td>\n",
       "      <td>8.000000</td>\n",
       "      <td>8.000000</td>\n",
       "      <td>8.000000</td>\n",
       "    </tr>\n",
       "    <tr>\n",
       "      <th>50%</th>\n",
       "      <td>91812.000000</td>\n",
       "      <td>183900.000000</td>\n",
       "      <td>89827.000000</td>\n",
       "      <td>69.000000</td>\n",
       "      <td>74.000000</td>\n",
       "      <td>59.000000</td>\n",
       "      <td>53.000000</td>\n",
       "      <td>60.000000</td>\n",
       "      <td>65.000000</td>\n",
       "      <td>52.000000</td>\n",
       "      <td>...</td>\n",
       "      <td>60.000000</td>\n",
       "      <td>57.000000</td>\n",
       "      <td>50.000000</td>\n",
       "      <td>56.000000</td>\n",
       "      <td>53.000000</td>\n",
       "      <td>10.000000</td>\n",
       "      <td>11.000000</td>\n",
       "      <td>11.000000</td>\n",
       "      <td>11.000000</td>\n",
       "      <td>11.000000</td>\n",
       "    </tr>\n",
       "    <tr>\n",
       "      <th>75%</th>\n",
       "      <td>137810.000000</td>\n",
       "      <td>200256.000000</td>\n",
       "      <td>193174.000000</td>\n",
       "      <td>73.000000</td>\n",
       "      <td>78.000000</td>\n",
       "      <td>68.000000</td>\n",
       "      <td>65.000000</td>\n",
       "      <td>68.000000</td>\n",
       "      <td>72.000000</td>\n",
       "      <td>64.000000</td>\n",
       "      <td>...</td>\n",
       "      <td>69.000000</td>\n",
       "      <td>67.000000</td>\n",
       "      <td>66.000000</td>\n",
       "      <td>69.000000</td>\n",
       "      <td>67.000000</td>\n",
       "      <td>13.000000</td>\n",
       "      <td>15.000000</td>\n",
       "      <td>15.000000</td>\n",
       "      <td>15.000000</td>\n",
       "      <td>15.000000</td>\n",
       "    </tr>\n",
       "    <tr>\n",
       "      <th>max</th>\n",
       "      <td>183978.000000</td>\n",
       "      <td>234141.000000</td>\n",
       "      <td>750584.000000</td>\n",
       "      <td>94.000000</td>\n",
       "      <td>97.000000</td>\n",
       "      <td>95.000000</td>\n",
       "      <td>97.000000</td>\n",
       "      <td>98.000000</td>\n",
       "      <td>97.000000</td>\n",
       "      <td>93.000000</td>\n",
       "      <td>...</td>\n",
       "      <td>97.000000</td>\n",
       "      <td>96.000000</td>\n",
       "      <td>94.000000</td>\n",
       "      <td>95.000000</td>\n",
       "      <td>95.000000</td>\n",
       "      <td>94.000000</td>\n",
       "      <td>93.000000</td>\n",
       "      <td>97.000000</td>\n",
       "      <td>96.000000</td>\n",
       "      <td>96.000000</td>\n",
       "    </tr>\n",
       "  </tbody>\n",
       "</table>\n",
       "<p>8 rows × 38 columns</p>\n",
       "</div>"
      ],
      "text/plain": [
       "                  id  player_fifa_api_id  player_api_id  overall_rating  \\\n",
       "count  176161.000000       176161.000000  176161.000000   176161.000000   \n",
       "mean    91840.417033       167305.852311  138278.214866       68.690857   \n",
       "std     53130.276666        52383.037960  137882.077955        7.023502   \n",
       "min         1.000000            2.000000    2625.000000       33.000000   \n",
       "25%     45788.000000       157304.000000   35495.000000       64.000000   \n",
       "50%     91812.000000       183900.000000   89827.000000       69.000000   \n",
       "75%    137810.000000       200256.000000  193174.000000       73.000000   \n",
       "max    183978.000000       234141.000000  750584.000000       94.000000   \n",
       "\n",
       "           potential       crossing      finishing  heading_accuracy  \\\n",
       "count  176161.000000  176161.000000  176161.000000     176161.000000   \n",
       "mean       73.519337      55.212573      50.048217         57.262805   \n",
       "std         6.578955      17.260152      19.032411         16.497744   \n",
       "min        39.000000       1.000000       1.000000          1.000000   \n",
       "25%        69.000000      45.000000      34.000000         49.000000   \n",
       "50%        74.000000      59.000000      53.000000         60.000000   \n",
       "75%        78.000000      68.000000      65.000000         68.000000   \n",
       "max        97.000000      95.000000      97.000000         98.000000   \n",
       "\n",
       "       short_passing        volleys  ...         vision      penalties  \\\n",
       "count  176161.000000  176161.000000  ...  176161.000000  176161.000000   \n",
       "mean       62.542146      49.577687  ...      57.887660      54.941082   \n",
       "std        14.183990      18.265310  ...      15.160678      15.555754   \n",
       "min         3.000000       1.000000  ...       1.000000       2.000000   \n",
       "25%        57.000000      36.000000  ...      49.000000      45.000000   \n",
       "50%        65.000000      52.000000  ...      60.000000      57.000000   \n",
       "75%        72.000000      64.000000  ...      69.000000      67.000000   \n",
       "max        97.000000      93.000000  ...      97.000000      96.000000   \n",
       "\n",
       "             marking  standing_tackle  sliding_tackle      gk_diving  \\\n",
       "count  176161.000000    176161.000000   176161.000000  176161.000000   \n",
       "mean       46.727908        50.343180       48.025204      14.721266   \n",
       "std        21.241315        21.520424       21.621540      16.865240   \n",
       "min         1.000000         1.000000        2.000000       1.000000   \n",
       "25%        25.000000        29.000000       25.000000       7.000000   \n",
       "50%        50.000000        56.000000       53.000000      10.000000   \n",
       "75%        66.000000        69.000000       67.000000      13.000000   \n",
       "max        94.000000        95.000000       95.000000      94.000000   \n",
       "\n",
       "         gk_handling     gk_kicking  gk_positioning    gk_reflexes  \n",
       "count  176161.000000  176161.000000   176161.000000  176161.000000  \n",
       "mean       15.892661      20.249420       15.962211      16.276679  \n",
       "std        15.863331      20.955093       16.092080      17.217545  \n",
       "min         1.000000       1.000000        1.000000       1.000000  \n",
       "25%         8.000000       8.000000        8.000000       8.000000  \n",
       "50%        11.000000      11.000000       11.000000      11.000000  \n",
       "75%        15.000000      15.000000       15.000000      15.000000  \n",
       "max        93.000000      97.000000       96.000000      96.000000  \n",
       "\n",
       "[8 rows x 38 columns]"
      ]
     },
     "execution_count": 18,
     "metadata": {},
     "output_type": "execute_result"
    }
   ],
   "source": [
    "player_attr_df.describe()"
   ]
  },
  {
   "cell_type": "markdown",
   "metadata": {},
   "source": [
    "As we can see, the columns with values do not show any discrepancy as such.\n",
    "\n",
    "---\n",
    "\n",
    "Let us know look at the values for **player_df** table and make sure there are no discrepancies"
   ]
  },
  {
   "cell_type": "code",
   "execution_count": 19,
   "metadata": {},
   "outputs": [
    {
     "name": "stdout",
     "output_type": "stream",
     "text": [
      "<class 'pandas.core.frame.DataFrame'>\n",
      "RangeIndex: 11060 entries, 0 to 11059\n",
      "Data columns (total 7 columns):\n",
      " #   Column              Non-Null Count  Dtype  \n",
      "---  ------              --------------  -----  \n",
      " 0   id                  11060 non-null  int64  \n",
      " 1   player_api_id       11060 non-null  int64  \n",
      " 2   player_name         11060 non-null  object \n",
      " 3   player_fifa_api_id  11060 non-null  int64  \n",
      " 4   birthday            11060 non-null  object \n",
      " 5   height              11060 non-null  float64\n",
      " 6   weight              11060 non-null  int64  \n",
      "dtypes: float64(1), int64(4), object(2)\n",
      "memory usage: 605.0+ KB\n"
     ]
    }
   ],
   "source": [
    "player_df.info()"
   ]
  },
  {
   "cell_type": "code",
   "execution_count": 20,
   "metadata": {},
   "outputs": [
    {
     "data": {
      "text/html": [
       "<div>\n",
       "<style scoped>\n",
       "    .dataframe tbody tr th:only-of-type {\n",
       "        vertical-align: middle;\n",
       "    }\n",
       "\n",
       "    .dataframe tbody tr th {\n",
       "        vertical-align: top;\n",
       "    }\n",
       "\n",
       "    .dataframe thead th {\n",
       "        text-align: right;\n",
       "    }\n",
       "</style>\n",
       "<table border=\"1\" class=\"dataframe\">\n",
       "  <thead>\n",
       "    <tr style=\"text-align: right;\">\n",
       "      <th></th>\n",
       "      <th>id</th>\n",
       "      <th>player_api_id</th>\n",
       "      <th>player_fifa_api_id</th>\n",
       "      <th>height</th>\n",
       "      <th>weight</th>\n",
       "    </tr>\n",
       "  </thead>\n",
       "  <tbody>\n",
       "    <tr>\n",
       "      <th>count</th>\n",
       "      <td>11060.000000</td>\n",
       "      <td>11060.000000</td>\n",
       "      <td>11060.000000</td>\n",
       "      <td>11060.000000</td>\n",
       "      <td>11060.000000</td>\n",
       "    </tr>\n",
       "    <tr>\n",
       "      <th>mean</th>\n",
       "      <td>5537.511392</td>\n",
       "      <td>156582.427215</td>\n",
       "      <td>165664.910488</td>\n",
       "      <td>181.867445</td>\n",
       "      <td>168.380289</td>\n",
       "    </tr>\n",
       "    <tr>\n",
       "      <th>std</th>\n",
       "      <td>3197.692647</td>\n",
       "      <td>160713.700624</td>\n",
       "      <td>58649.928360</td>\n",
       "      <td>6.369201</td>\n",
       "      <td>14.990217</td>\n",
       "    </tr>\n",
       "    <tr>\n",
       "      <th>min</th>\n",
       "      <td>1.000000</td>\n",
       "      <td>2625.000000</td>\n",
       "      <td>2.000000</td>\n",
       "      <td>157.480000</td>\n",
       "      <td>117.000000</td>\n",
       "    </tr>\n",
       "    <tr>\n",
       "      <th>25%</th>\n",
       "      <td>2767.750000</td>\n",
       "      <td>35555.500000</td>\n",
       "      <td>151889.500000</td>\n",
       "      <td>177.800000</td>\n",
       "      <td>159.000000</td>\n",
       "    </tr>\n",
       "    <tr>\n",
       "      <th>50%</th>\n",
       "      <td>5536.500000</td>\n",
       "      <td>96619.500000</td>\n",
       "      <td>184671.000000</td>\n",
       "      <td>182.880000</td>\n",
       "      <td>168.000000</td>\n",
       "    </tr>\n",
       "    <tr>\n",
       "      <th>75%</th>\n",
       "      <td>8306.250000</td>\n",
       "      <td>212470.500000</td>\n",
       "      <td>203883.250000</td>\n",
       "      <td>185.420000</td>\n",
       "      <td>179.000000</td>\n",
       "    </tr>\n",
       "    <tr>\n",
       "      <th>max</th>\n",
       "      <td>11075.000000</td>\n",
       "      <td>750584.000000</td>\n",
       "      <td>234141.000000</td>\n",
       "      <td>208.280000</td>\n",
       "      <td>243.000000</td>\n",
       "    </tr>\n",
       "  </tbody>\n",
       "</table>\n",
       "</div>"
      ],
      "text/plain": [
       "                 id  player_api_id  player_fifa_api_id        height  \\\n",
       "count  11060.000000   11060.000000        11060.000000  11060.000000   \n",
       "mean    5537.511392  156582.427215       165664.910488    181.867445   \n",
       "std     3197.692647  160713.700624        58649.928360      6.369201   \n",
       "min        1.000000    2625.000000            2.000000    157.480000   \n",
       "25%     2767.750000   35555.500000       151889.500000    177.800000   \n",
       "50%     5536.500000   96619.500000       184671.000000    182.880000   \n",
       "75%     8306.250000  212470.500000       203883.250000    185.420000   \n",
       "max    11075.000000  750584.000000       234141.000000    208.280000   \n",
       "\n",
       "             weight  \n",
       "count  11060.000000  \n",
       "mean     168.380289  \n",
       "std       14.990217  \n",
       "min      117.000000  \n",
       "25%      159.000000  \n",
       "50%      168.000000  \n",
       "75%      179.000000  \n",
       "max      243.000000  "
      ]
     },
     "execution_count": 20,
     "metadata": {},
     "output_type": "execute_result"
    }
   ],
   "source": [
    "player_df.describe()"
   ]
  },
  {
   "cell_type": "markdown",
   "metadata": {},
   "source": [
    "As per the above analysis, we see that there is no missing data or outliers in the columns of *player_df*.\n",
    "\n",
    "---"
   ]
  },
  {
   "cell_type": "markdown",
   "metadata": {},
   "source": [
    "<a id='eda'></a>\n",
    "## Exploratory Data Analysis\n",
    "\n",
    "\n",
    "### How are players who are left footed different from those that are right_footed?"
   ]
  },
  {
   "cell_type": "markdown",
   "metadata": {},
   "source": [
    "We would start the EDA by combining the tables `player_df` and `player_attr_df` since the former provides name, weight and height for the player whereas the latter provides the technical specifications of the player over a number of seasons."
   ]
  },
  {
   "cell_type": "code",
   "execution_count": 21,
   "metadata": {},
   "outputs": [],
   "source": [
    "player_met_df = player_df.merge(player_attr_df, left_on=player_df['player_api_id'], right_on=player_attr_df['player_api_id'])"
   ]
  },
  {
   "cell_type": "code",
   "execution_count": 22,
   "metadata": {},
   "outputs": [
    {
     "name": "stdout",
     "output_type": "stream",
     "text": [
      "<class 'pandas.core.frame.DataFrame'>\n",
      "Int64Index: 176161 entries, 0 to 176160\n",
      "Data columns (total 50 columns):\n",
      " #   Column                Non-Null Count   Dtype  \n",
      "---  ------                --------------   -----  \n",
      " 0   key_0                 176161 non-null  int64  \n",
      " 1   id_x                  176161 non-null  int64  \n",
      " 2   player_api_id_x       176161 non-null  int64  \n",
      " 3   player_name           176161 non-null  object \n",
      " 4   player_fifa_api_id_x  176161 non-null  int64  \n",
      " 5   birthday              176161 non-null  object \n",
      " 6   height                176161 non-null  float64\n",
      " 7   weight                176161 non-null  int64  \n",
      " 8   id_y                  176161 non-null  int64  \n",
      " 9   player_fifa_api_id_y  176161 non-null  int64  \n",
      " 10  player_api_id_y       176161 non-null  int64  \n",
      " 11  date                  176161 non-null  object \n",
      " 12  overall_rating        176161 non-null  float64\n",
      " 13  potential             176161 non-null  float64\n",
      " 14  preferred_foot        176161 non-null  object \n",
      " 15  attacking_work_rate   176161 non-null  object \n",
      " 16  defensive_work_rate   176161 non-null  object \n",
      " 17  crossing              176161 non-null  float64\n",
      " 18  finishing             176161 non-null  float64\n",
      " 19  heading_accuracy      176161 non-null  float64\n",
      " 20  short_passing         176161 non-null  float64\n",
      " 21  volleys               176161 non-null  float64\n",
      " 22  dribbling             176161 non-null  float64\n",
      " 23  curve                 176161 non-null  float64\n",
      " 24  free_kick_accuracy    176161 non-null  float64\n",
      " 25  long_passing          176161 non-null  float64\n",
      " 26  ball_control          176161 non-null  float64\n",
      " 27  acceleration          176161 non-null  float64\n",
      " 28  sprint_speed          176161 non-null  float64\n",
      " 29  agility               176161 non-null  float64\n",
      " 30  reactions             176161 non-null  float64\n",
      " 31  balance               176161 non-null  float64\n",
      " 32  shot_power            176161 non-null  float64\n",
      " 33  jumping               176161 non-null  float64\n",
      " 34  stamina               176161 non-null  float64\n",
      " 35  strength              176161 non-null  float64\n",
      " 36  long_shots            176161 non-null  float64\n",
      " 37  aggression            176161 non-null  float64\n",
      " 38  interceptions         176161 non-null  float64\n",
      " 39  positioning           176161 non-null  float64\n",
      " 40  vision                176161 non-null  float64\n",
      " 41  penalties             176161 non-null  float64\n",
      " 42  marking               176161 non-null  float64\n",
      " 43  standing_tackle       176161 non-null  float64\n",
      " 44  sliding_tackle        176161 non-null  float64\n",
      " 45  gk_diving             176161 non-null  float64\n",
      " 46  gk_handling           176161 non-null  float64\n",
      " 47  gk_kicking            176161 non-null  float64\n",
      " 48  gk_positioning        176161 non-null  float64\n",
      " 49  gk_reflexes           176161 non-null  float64\n",
      "dtypes: float64(36), int64(8), object(6)\n",
      "memory usage: 68.5+ MB\n"
     ]
    }
   ],
   "source": [
    "player_met_df.info()"
   ]
  },
  {
   "cell_type": "code",
   "execution_count": 23,
   "metadata": {},
   "outputs": [
    {
     "data": {
      "text/html": [
       "<div>\n",
       "<style scoped>\n",
       "    .dataframe tbody tr th:only-of-type {\n",
       "        vertical-align: middle;\n",
       "    }\n",
       "\n",
       "    .dataframe tbody tr th {\n",
       "        vertical-align: top;\n",
       "    }\n",
       "\n",
       "    .dataframe thead th {\n",
       "        text-align: right;\n",
       "    }\n",
       "</style>\n",
       "<table border=\"1\" class=\"dataframe\">\n",
       "  <thead>\n",
       "    <tr style=\"text-align: right;\">\n",
       "      <th></th>\n",
       "      <th>key_0</th>\n",
       "      <th>id_x</th>\n",
       "      <th>player_api_id_x</th>\n",
       "      <th>player_name</th>\n",
       "      <th>player_fifa_api_id_x</th>\n",
       "      <th>birthday</th>\n",
       "      <th>height</th>\n",
       "      <th>weight</th>\n",
       "      <th>id_y</th>\n",
       "      <th>player_fifa_api_id_y</th>\n",
       "      <th>...</th>\n",
       "      <th>vision</th>\n",
       "      <th>penalties</th>\n",
       "      <th>marking</th>\n",
       "      <th>standing_tackle</th>\n",
       "      <th>sliding_tackle</th>\n",
       "      <th>gk_diving</th>\n",
       "      <th>gk_handling</th>\n",
       "      <th>gk_kicking</th>\n",
       "      <th>gk_positioning</th>\n",
       "      <th>gk_reflexes</th>\n",
       "    </tr>\n",
       "  </thead>\n",
       "  <tbody>\n",
       "    <tr>\n",
       "      <th>0</th>\n",
       "      <td>505942</td>\n",
       "      <td>1</td>\n",
       "      <td>505942</td>\n",
       "      <td>Aaron Appindangoye</td>\n",
       "      <td>218353</td>\n",
       "      <td>1992-02-29 00:00:00</td>\n",
       "      <td>182.88</td>\n",
       "      <td>187</td>\n",
       "      <td>1</td>\n",
       "      <td>218353</td>\n",
       "      <td>...</td>\n",
       "      <td>54.0</td>\n",
       "      <td>48.0</td>\n",
       "      <td>65.0</td>\n",
       "      <td>69.0</td>\n",
       "      <td>69.0</td>\n",
       "      <td>6.0</td>\n",
       "      <td>11.0</td>\n",
       "      <td>10.0</td>\n",
       "      <td>8.0</td>\n",
       "      <td>8.0</td>\n",
       "    </tr>\n",
       "    <tr>\n",
       "      <th>1</th>\n",
       "      <td>505942</td>\n",
       "      <td>1</td>\n",
       "      <td>505942</td>\n",
       "      <td>Aaron Appindangoye</td>\n",
       "      <td>218353</td>\n",
       "      <td>1992-02-29 00:00:00</td>\n",
       "      <td>182.88</td>\n",
       "      <td>187</td>\n",
       "      <td>2</td>\n",
       "      <td>218353</td>\n",
       "      <td>...</td>\n",
       "      <td>54.0</td>\n",
       "      <td>48.0</td>\n",
       "      <td>65.0</td>\n",
       "      <td>69.0</td>\n",
       "      <td>69.0</td>\n",
       "      <td>6.0</td>\n",
       "      <td>11.0</td>\n",
       "      <td>10.0</td>\n",
       "      <td>8.0</td>\n",
       "      <td>8.0</td>\n",
       "    </tr>\n",
       "    <tr>\n",
       "      <th>2</th>\n",
       "      <td>505942</td>\n",
       "      <td>1</td>\n",
       "      <td>505942</td>\n",
       "      <td>Aaron Appindangoye</td>\n",
       "      <td>218353</td>\n",
       "      <td>1992-02-29 00:00:00</td>\n",
       "      <td>182.88</td>\n",
       "      <td>187</td>\n",
       "      <td>3</td>\n",
       "      <td>218353</td>\n",
       "      <td>...</td>\n",
       "      <td>54.0</td>\n",
       "      <td>48.0</td>\n",
       "      <td>65.0</td>\n",
       "      <td>66.0</td>\n",
       "      <td>69.0</td>\n",
       "      <td>6.0</td>\n",
       "      <td>11.0</td>\n",
       "      <td>10.0</td>\n",
       "      <td>8.0</td>\n",
       "      <td>8.0</td>\n",
       "    </tr>\n",
       "    <tr>\n",
       "      <th>3</th>\n",
       "      <td>505942</td>\n",
       "      <td>1</td>\n",
       "      <td>505942</td>\n",
       "      <td>Aaron Appindangoye</td>\n",
       "      <td>218353</td>\n",
       "      <td>1992-02-29 00:00:00</td>\n",
       "      <td>182.88</td>\n",
       "      <td>187</td>\n",
       "      <td>4</td>\n",
       "      <td>218353</td>\n",
       "      <td>...</td>\n",
       "      <td>53.0</td>\n",
       "      <td>47.0</td>\n",
       "      <td>62.0</td>\n",
       "      <td>63.0</td>\n",
       "      <td>66.0</td>\n",
       "      <td>5.0</td>\n",
       "      <td>10.0</td>\n",
       "      <td>9.0</td>\n",
       "      <td>7.0</td>\n",
       "      <td>7.0</td>\n",
       "    </tr>\n",
       "    <tr>\n",
       "      <th>4</th>\n",
       "      <td>505942</td>\n",
       "      <td>1</td>\n",
       "      <td>505942</td>\n",
       "      <td>Aaron Appindangoye</td>\n",
       "      <td>218353</td>\n",
       "      <td>1992-02-29 00:00:00</td>\n",
       "      <td>182.88</td>\n",
       "      <td>187</td>\n",
       "      <td>5</td>\n",
       "      <td>218353</td>\n",
       "      <td>...</td>\n",
       "      <td>53.0</td>\n",
       "      <td>47.0</td>\n",
       "      <td>62.0</td>\n",
       "      <td>63.0</td>\n",
       "      <td>66.0</td>\n",
       "      <td>5.0</td>\n",
       "      <td>10.0</td>\n",
       "      <td>9.0</td>\n",
       "      <td>7.0</td>\n",
       "      <td>7.0</td>\n",
       "    </tr>\n",
       "  </tbody>\n",
       "</table>\n",
       "<p>5 rows × 50 columns</p>\n",
       "</div>"
      ],
      "text/plain": [
       "    key_0  id_x  player_api_id_x         player_name  player_fifa_api_id_x  \\\n",
       "0  505942     1           505942  Aaron Appindangoye                218353   \n",
       "1  505942     1           505942  Aaron Appindangoye                218353   \n",
       "2  505942     1           505942  Aaron Appindangoye                218353   \n",
       "3  505942     1           505942  Aaron Appindangoye                218353   \n",
       "4  505942     1           505942  Aaron Appindangoye                218353   \n",
       "\n",
       "              birthday  height  weight  id_y  player_fifa_api_id_y  ...  \\\n",
       "0  1992-02-29 00:00:00  182.88     187     1                218353  ...   \n",
       "1  1992-02-29 00:00:00  182.88     187     2                218353  ...   \n",
       "2  1992-02-29 00:00:00  182.88     187     3                218353  ...   \n",
       "3  1992-02-29 00:00:00  182.88     187     4                218353  ...   \n",
       "4  1992-02-29 00:00:00  182.88     187     5                218353  ...   \n",
       "\n",
       "   vision penalties  marking  standing_tackle sliding_tackle gk_diving  \\\n",
       "0    54.0      48.0     65.0             69.0           69.0       6.0   \n",
       "1    54.0      48.0     65.0             69.0           69.0       6.0   \n",
       "2    54.0      48.0     65.0             66.0           69.0       6.0   \n",
       "3    53.0      47.0     62.0             63.0           66.0       5.0   \n",
       "4    53.0      47.0     62.0             63.0           66.0       5.0   \n",
       "\n",
       "  gk_handling  gk_kicking  gk_positioning  gk_reflexes  \n",
       "0        11.0        10.0             8.0          8.0  \n",
       "1        11.0        10.0             8.0          8.0  \n",
       "2        11.0        10.0             8.0          8.0  \n",
       "3        10.0         9.0             7.0          7.0  \n",
       "4        10.0         9.0             7.0          7.0  \n",
       "\n",
       "[5 rows x 50 columns]"
      ]
     },
     "execution_count": 23,
     "metadata": {},
     "output_type": "execute_result"
    }
   ],
   "source": [
    "player_met_df.head()"
   ]
  },
  {
   "cell_type": "markdown",
   "metadata": {},
   "source": [
    "We see there are a number of rows with similar named players, this is because each row represents the players statistics over multiple seasons. We would now be combining the stats of each of these players so that each row is distinct in terms of the name of the player. We would not be using all the variables within this table. In the following cell, `player_attr_col` is a list which lists out the variables we would be using for the EDA."
   ]
  },
  {
   "cell_type": "code",
   "execution_count": 24,
   "metadata": {},
   "outputs": [],
   "source": [
    "player_attr_col = ['height', 'weight', 'overall_rating','potential','sprint_speed', 'stamina']"
   ]
  },
  {
   "cell_type": "code",
   "execution_count": 25,
   "metadata": {},
   "outputs": [],
   "source": [
    "player_df2 = player_met_df.groupby(['player_name','preferred_foot'], as_index=False)[player_attr_col].mean()"
   ]
  },
  {
   "cell_type": "markdown",
   "metadata": {},
   "source": [
    "Let us see how is the player distribution in terms of the `foot_preference`."
   ]
  },
  {
   "cell_type": "code",
   "execution_count": 26,
   "metadata": {},
   "outputs": [
    {
     "data": {
      "text/plain": [
       "[Text(0, 0.5, 'No. of Players'), Text(0.5, 0, 'Foot preference')]"
      ]
     },
     "execution_count": 26,
     "metadata": {},
     "output_type": "execute_result"
    },
    {
     "data": {
      "image/png": "[encoded data removed]",
      "text/plain": [
       "<Figure size 432x288 with 1 Axes>"
      ]
     },
     "metadata": {
      "needs_background": "light"
     },
     "output_type": "display_data"
    }
   ],
   "source": [
    "ax = sns.barplot(['right','left'], pd.DataFrame(player_df2['preferred_foot'].value_counts())['preferred_foot'])\n",
    "ax.set(xlabel = 'Foot preference',ylabel = 'No. of Players')"
   ]
  },
  {
   "cell_type": "markdown",
   "metadata": {},
   "source": [
    "Interesting, we see that there are more right footed players than left footed players. That is almost 3x difference."
   ]
  },
  {
   "cell_type": "markdown",
   "metadata": {},
   "source": [
    "I would be interested in knowing how these players differ in terms of their technical skills"
   ]
  },
  {
   "cell_type": "code",
   "execution_count": 27,
   "metadata": {
    "scrolled": false
   },
   "outputs": [],
   "source": [
    "foot_df = player_df2.groupby('preferred_foot', as_index=False).mean()"
   ]
  },
  {
   "cell_type": "code",
   "execution_count": 28,
   "metadata": {
    "scrolled": true
   },
   "outputs": [
    {
     "data": {
      "text/plain": [
       "[Text(0, 0.5, 'Sprint Speed'), Text(0.5, 0, 'Foot Preference')]"
      ]
     },
     "execution_count": 28,
     "metadata": {},
     "output_type": "execute_result"
    },
    {
     "data": {
      "image/png": "[encoded data removed]",
      "text/plain": [
       "<Figure size 432x288 with 1 Axes>"
      ]
     },
     "metadata": {
      "needs_background": "light"
     },
     "output_type": "display_data"
    }
   ],
   "source": [
    "ax = sns.barplot('preferred_foot','sprint_speed',data = foot_df)\n",
    "ax.set(xlabel = 'Foot Preference', ylabel='Sprint Speed')"
   ]
  },
  {
   "cell_type": "code",
   "execution_count": 29,
   "metadata": {
    "scrolled": true
   },
   "outputs": [
    {
     "data": {
      "text/plain": [
       "[Text(0, 0.5, 'Stamina'), Text(0.5, 0, 'Foot Preference')]"
      ]
     },
     "execution_count": 29,
     "metadata": {},
     "output_type": "execute_result"
    },
    {
     "data": {
      "image/png": "[encoded data removed]",
      "text/plain": [
       "<Figure size 432x288 with 1 Axes>"
      ]
     },
     "metadata": {
      "needs_background": "light"
     },
     "output_type": "display_data"
    }
   ],
   "source": [
    "ax = sns.barplot('preferred_foot','stamina',data = foot_df)\n",
    "ax.set(xlabel = 'Foot Preference' , ylabel = 'Stamina')"
   ]
  },
  {
   "cell_type": "markdown",
   "metadata": {},
   "source": [
    "As per the data, we can see the `sprint_speed` and `stamina` of the left-footed players is higher than that of the right-footed players. Additionally, if there is any specific technical specifications we would like to check, we can do the same."
   ]
  },
  {
   "cell_type": "markdown",
   "metadata": {},
   "source": [
    "### Have the number of Goals Scored increased over the seasons? If so, how do the away goals and home goals contribute to the total number of goals scored?"
   ]
  },
  {
   "cell_type": "markdown",
   "metadata": {},
   "source": [
    "To start with this question, I would first merge the `country_df` with the `match_df` to understand which country does each line signify."
   ]
  },
  {
   "cell_type": "code",
   "execution_count": 30,
   "metadata": {},
   "outputs": [],
   "source": [
    "match_df = match_df.merge(country_df, left_on = 'country_id', right_on='id')"
   ]
  },
  {
   "cell_type": "code",
   "execution_count": 31,
   "metadata": {},
   "outputs": [
    {
     "name": "stdout",
     "output_type": "stream",
     "text": [
      "<class 'pandas.core.frame.DataFrame'>\n",
      "Int64Index: 25979 entries, 0 to 25978\n",
      "Data columns (total 9 columns):\n",
      " #   Column          Non-Null Count  Dtype \n",
      "---  ------          --------------  ----- \n",
      " 0   id_x            25979 non-null  int64 \n",
      " 1   country_id      25979 non-null  int64 \n",
      " 2   season          25979 non-null  object\n",
      " 3   stage           25979 non-null  int64 \n",
      " 4   match_api_id    25979 non-null  int64 \n",
      " 5   home_team_goal  25979 non-null  int64 \n",
      " 6   away_team_goal  25979 non-null  int64 \n",
      " 7   id_y            25979 non-null  int64 \n",
      " 8   name            25979 non-null  object\n",
      "dtypes: int64(7), object(2)\n",
      "memory usage: 2.0+ MB\n"
     ]
    }
   ],
   "source": [
    "match_df.info()"
   ]
  },
  {
   "cell_type": "markdown",
   "metadata": {},
   "source": [
    "`match_df` has approximately 115 columns. We would not need so many and hence we would trim to the only columns we would need."
   ]
  },
  {
   "cell_type": "code",
   "execution_count": 32,
   "metadata": {},
   "outputs": [],
   "source": [
    "match_df = match_df[['season', 'stage', 'home_team_goal', 'away_team_goal', 'name']]"
   ]
  },
  {
   "cell_type": "markdown",
   "metadata": {},
   "source": [
    "Renaming the `name` column which stores the country's name to `country` to avoid confusion"
   ]
  },
  {
   "cell_type": "code",
   "execution_count": 33,
   "metadata": {},
   "outputs": [],
   "source": [
    "col_ren = {'name': 'country'}"
   ]
  },
  {
   "cell_type": "code",
   "execution_count": 34,
   "metadata": {},
   "outputs": [],
   "source": [
    "match_df.rename(col_ren, axis=1, inplace=True)"
   ]
  },
  {
   "cell_type": "markdown",
   "metadata": {},
   "source": [
    "Creating an additional variable `total_goals` which would be the summation of the goals scored by the home team as well as the away team."
   ]
  },
  {
   "cell_type": "code",
   "execution_count": 35,
   "metadata": {
    "scrolled": false
   },
   "outputs": [],
   "source": [
    "match_df['total_goals'] = match_df['home_team_goal'] + match_df['away_team_goal']"
   ]
  },
  {
   "cell_type": "markdown",
   "metadata": {},
   "source": [
    "Creating a groupby DataFrame to reshape the DataFrame in terms of the country and the season."
   ]
  },
  {
   "cell_type": "code",
   "execution_count": 36,
   "metadata": {},
   "outputs": [],
   "source": [
    "season_df = match_df.groupby(['country','season'], as_index=False).mean()"
   ]
  },
  {
   "cell_type": "markdown",
   "metadata": {},
   "source": [
    "Now we would plot to see whether the number of goals every season is on the rise or not?"
   ]
  },
  {
   "cell_type": "code",
   "execution_count": 37,
   "metadata": {
    "scrolled": true
   },
   "outputs": [
    {
     "data": {
      "image/png": "[encoded data removed]",
      "text/plain": [
       "<Figure size 432x288 with 1 Axes>"
      ]
     },
     "metadata": {
      "needs_background": "light"
     },
     "output_type": "display_data"
    }
   ],
   "source": [
    "ax = sns.lineplot('season','total_goals',alpha=0.6,data=match_df)\n",
    "ax.set_xlabel('Season')\n",
    "ax.set_ylabel('Total Goals scored per match')\n",
    "ax.set_title('Goals per match - Season Breakdown')\n",
    "for label in ax.get_xticklabels():\n",
    "    label.set_rotation(45)"
   ]
  },
  {
   "cell_type": "markdown",
   "metadata": {},
   "source": [
    "We see that the general trend from 2008/2009 season till 2013/2014 season is a general increase with a blip in 2014/2015 season after which it is on the rise again."
   ]
  },
  {
   "cell_type": "markdown",
   "metadata": {},
   "source": [
    "Let's see a breakdown of the total number of goal scored by the the countries across all the season."
   ]
  },
  {
   "cell_type": "code",
   "execution_count": 38,
   "metadata": {
    "scrolled": true
   },
   "outputs": [
    {
     "data": {
      "image/png": "[encoded data removed]",
      "text/plain": [
       "<Figure size 432x288 with 1 Axes>"
      ]
     },
     "metadata": {
      "needs_background": "light"
     },
     "output_type": "display_data"
    }
   ],
   "source": [
    "ax = sns.barplot('country','total_goals',alpha=0.6,data=season_df)\n",
    "ax.set_xlabel('Country')\n",
    "ax.set_ylabel('Total Goals Scored per Match')\n",
    "ax.set_title('Goals per match - Country Breakdown')\n",
    "for label in ax.get_xticklabels():\n",
    "        label.set_rotation(45)"
   ]
  },
  {
   "cell_type": "markdown",
   "metadata": {},
   "source": [
    "The highest scoring league is the Netherlands with approximately 3 goals being scored per match."
   ]
  },
  {
   "cell_type": "markdown",
   "metadata": {},
   "source": [
    "The above plots help us in understanding the number of goals per match have been on a steady increase across the leagues and an average of 2 goals or more is scored in a match in any given league. \n",
    "\n",
    "Let us see how the distribution of the goals is across the different countries broken down per season."
   ]
  },
  {
   "cell_type": "code",
   "execution_count": 39,
   "metadata": {},
   "outputs": [
    {
     "data": {
      "image/png": "[encoded data removed]",
      "text/plain": [
       "<Figure size 701.625x1584 with 11 Axes>"
      ]
     },
     "metadata": {
      "needs_background": "light"
     },
     "output_type": "display_data"
    }
   ],
   "source": [
    "g = sns.FacetGrid(season_df, row='country', height=2, aspect =4)\n",
    "g.map(sns.lineplot, \"season\",\"total_goals\", color = 'orange', alpha=0.6,label = 'Total Goals')\n",
    "g.map(sns.lineplot, \"season\",\"home_team_goal\", color = 'green', alpha=0.6,label = 'Home Team Goals')\n",
    "g.map(sns.lineplot, \"season\",\"away_team_goal\", color = 'blue', alpha=0.6,label = 'Away Team Goals')\n",
    "g.set_axis_labels(\"Season\",\"Total Goals Scored\")\n",
    "g.add_legend()\n",
    "for ax in g.axes.flat:\n",
    "    for label in ax.get_xticklabels():\n",
    "        label.set_rotation(45)"
   ]
  },
  {
   "cell_type": "markdown",
   "metadata": {},
   "source": [
    "We see that consistently across all the seasons in different countries, the home teams have outscored the away teams. Additionally, following are some of the observations we can make:\n",
    "1. Although Netherlands has the most number of goals per match, it is one of the most consistent league across the various seasons.\n",
    "2. Poland has seen a consistent increase in the number of goals scored from 2008 up until 2016.\n",
    "3. Scotland's total goals breakdown per match shows us that the number of goals scored by the home and away team is almost the same throughout the different seasons."
   ]
  },
  {
   "cell_type": "markdown",
   "metadata": {},
   "source": [
    "<a id='Final Thoughts'></a>\n",
    "## Final Thoughts\n",
    "\n",
    "I would like to conclude by saying that these were only the initial EDA. I was really interested in knowing the breakdown of the player stats in terms of the country they represent but unfortunately, the limitation of this dataset is that there is no way we can connect the two tables.\n",
    "\n",
    "I have used limited columns and tables for this particular project. Had I used any more, it would have been a thesis level reasearch. Hence, to limit the scope, I was picky for selecting the tables as well as the variables. "
   ]
  },
  {
   "cell_type": "markdown",
   "metadata": {},
   "source": [
    "<a id='appendix'></a>\n",
    "## Appendix"
   ]
  },
  {
   "cell_type": "markdown",
   "metadata": {},
   "source": [
    "Additional analysis which did not really happen to answer any questions as such."
   ]
  },
  {
   "cell_type": "code",
   "execution_count": 40,
   "metadata": {
    "scrolled": true
   },
   "outputs": [
    {
     "data": {
      "text/html": [
       "<div>\n",
       "<style scoped>\n",
       "    .dataframe tbody tr th:only-of-type {\n",
       "        vertical-align: middle;\n",
       "    }\n",
       "\n",
       "    .dataframe tbody tr th {\n",
       "        vertical-align: top;\n",
       "    }\n",
       "\n",
       "    .dataframe thead th {\n",
       "        text-align: right;\n",
       "    }\n",
       "</style>\n",
       "<table border=\"1\" class=\"dataframe\">\n",
       "  <thead>\n",
       "    <tr style=\"text-align: right;\">\n",
       "      <th></th>\n",
       "      <th>height</th>\n",
       "      <th>weight</th>\n",
       "      <th>overall_rating</th>\n",
       "      <th>potential</th>\n",
       "      <th>sprint_speed</th>\n",
       "      <th>stamina</th>\n",
       "    </tr>\n",
       "  </thead>\n",
       "  <tbody>\n",
       "    <tr>\n",
       "      <th>height</th>\n",
       "      <td>1.000000</td>\n",
       "      <td>0.763400</td>\n",
       "      <td>0.002322</td>\n",
       "      <td>-0.043174</td>\n",
       "      <td>-0.472357</td>\n",
       "      <td>-0.250142</td>\n",
       "    </tr>\n",
       "    <tr>\n",
       "      <th>weight</th>\n",
       "      <td>0.763400</td>\n",
       "      <td>1.000000</td>\n",
       "      <td>0.096996</td>\n",
       "      <td>-0.003656</td>\n",
       "      <td>-0.423242</td>\n",
       "      <td>-0.211038</td>\n",
       "    </tr>\n",
       "    <tr>\n",
       "      <th>overall_rating</th>\n",
       "      <td>0.002322</td>\n",
       "      <td>0.096996</td>\n",
       "      <td>1.000000</td>\n",
       "      <td>0.789246</td>\n",
       "      <td>0.231558</td>\n",
       "      <td>0.326326</td>\n",
       "    </tr>\n",
       "    <tr>\n",
       "      <th>potential</th>\n",
       "      <td>-0.043174</td>\n",
       "      <td>-0.003656</td>\n",
       "      <td>0.789246</td>\n",
       "      <td>1.000000</td>\n",
       "      <td>0.326006</td>\n",
       "      <td>0.237159</td>\n",
       "    </tr>\n",
       "    <tr>\n",
       "      <th>sprint_speed</th>\n",
       "      <td>-0.472357</td>\n",
       "      <td>-0.423242</td>\n",
       "      <td>0.231558</td>\n",
       "      <td>0.326006</td>\n",
       "      <td>1.000000</td>\n",
       "      <td>0.551210</td>\n",
       "    </tr>\n",
       "    <tr>\n",
       "      <th>stamina</th>\n",
       "      <td>-0.250142</td>\n",
       "      <td>-0.211038</td>\n",
       "      <td>0.326326</td>\n",
       "      <td>0.237159</td>\n",
       "      <td>0.551210</td>\n",
       "      <td>1.000000</td>\n",
       "    </tr>\n",
       "  </tbody>\n",
       "</table>\n",
       "</div>"
      ],
      "text/plain": [
       "                  height    weight  overall_rating  potential  sprint_speed  \\\n",
       "height          1.000000  0.763400        0.002322  -0.043174     -0.472357   \n",
       "weight          0.763400  1.000000        0.096996  -0.003656     -0.423242   \n",
       "overall_rating  0.002322  0.096996        1.000000   0.789246      0.231558   \n",
       "potential      -0.043174 -0.003656        0.789246   1.000000      0.326006   \n",
       "sprint_speed   -0.472357 -0.423242        0.231558   0.326006      1.000000   \n",
       "stamina        -0.250142 -0.211038        0.326326   0.237159      0.551210   \n",
       "\n",
       "                 stamina  \n",
       "height         -0.250142  \n",
       "weight         -0.211038  \n",
       "overall_rating  0.326326  \n",
       "potential       0.237159  \n",
       "sprint_speed    0.551210  \n",
       "stamina         1.000000  "
      ]
     },
     "execution_count": 40,
     "metadata": {},
     "output_type": "execute_result"
    }
   ],
   "source": [
    "player_df2.corr()"
   ]
  },
  {
   "cell_type": "markdown",
   "metadata": {},
   "source": [
    "As we see that height and weight are correlated, we can create another feature called body mass index which would be as simple as $$BMI = height/weight$$"
   ]
  },
  {
   "cell_type": "code",
   "execution_count": 41,
   "metadata": {},
   "outputs": [],
   "source": [
    "player_df2['BMI'] = player_df2['height']/player_df2['weight']\n",
    "player_df2.drop(['height','weight'], axis=1, inplace=True)"
   ]
  },
  {
   "cell_type": "code",
   "execution_count": 42,
   "metadata": {},
   "outputs": [
    {
     "data": {
      "text/html": [
       "<div>\n",
       "<style scoped>\n",
       "    .dataframe tbody tr th:only-of-type {\n",
       "        vertical-align: middle;\n",
       "    }\n",
       "\n",
       "    .dataframe tbody tr th {\n",
       "        vertical-align: top;\n",
       "    }\n",
       "\n",
       "    .dataframe thead th {\n",
       "        text-align: right;\n",
       "    }\n",
       "</style>\n",
       "<table border=\"1\" class=\"dataframe\">\n",
       "  <thead>\n",
       "    <tr style=\"text-align: right;\">\n",
       "      <th></th>\n",
       "      <th>overall_rating</th>\n",
       "      <th>potential</th>\n",
       "      <th>sprint_speed</th>\n",
       "      <th>stamina</th>\n",
       "      <th>BMI</th>\n",
       "    </tr>\n",
       "  </thead>\n",
       "  <tbody>\n",
       "    <tr>\n",
       "      <th>overall_rating</th>\n",
       "      <td>1.000000</td>\n",
       "      <td>0.789246</td>\n",
       "      <td>0.231558</td>\n",
       "      <td>0.326326</td>\n",
       "      <td>-0.127115</td>\n",
       "    </tr>\n",
       "    <tr>\n",
       "      <th>potential</th>\n",
       "      <td>0.789246</td>\n",
       "      <td>1.000000</td>\n",
       "      <td>0.326006</td>\n",
       "      <td>0.237159</td>\n",
       "      <td>-0.013146</td>\n",
       "    </tr>\n",
       "    <tr>\n",
       "      <th>sprint_speed</th>\n",
       "      <td>0.231558</td>\n",
       "      <td>0.326006</td>\n",
       "      <td>1.000000</td>\n",
       "      <td>0.551210</td>\n",
       "      <td>0.310992</td>\n",
       "    </tr>\n",
       "    <tr>\n",
       "      <th>stamina</th>\n",
       "      <td>0.326326</td>\n",
       "      <td>0.237159</td>\n",
       "      <td>0.551210</td>\n",
       "      <td>1.000000</td>\n",
       "      <td>0.136223</td>\n",
       "    </tr>\n",
       "    <tr>\n",
       "      <th>BMI</th>\n",
       "      <td>-0.127115</td>\n",
       "      <td>-0.013146</td>\n",
       "      <td>0.310992</td>\n",
       "      <td>0.136223</td>\n",
       "      <td>1.000000</td>\n",
       "    </tr>\n",
       "  </tbody>\n",
       "</table>\n",
       "</div>"
      ],
      "text/plain": [
       "                overall_rating  potential  sprint_speed   stamina       BMI\n",
       "overall_rating        1.000000   0.789246      0.231558  0.326326 -0.127115\n",
       "potential             0.789246   1.000000      0.326006  0.237159 -0.013146\n",
       "sprint_speed          0.231558   0.326006      1.000000  0.551210  0.310992\n",
       "stamina               0.326326   0.237159      0.551210  1.000000  0.136223\n",
       "BMI                  -0.127115  -0.013146      0.310992  0.136223  1.000000"
      ]
     },
     "execution_count": 42,
     "metadata": {},
     "output_type": "execute_result"
    }
   ],
   "source": [
    "player_df2.corr()"
   ]
  },
  {
   "cell_type": "code",
   "execution_count": 43,
   "metadata": {},
   "outputs": [],
   "source": [
    "mean = player_df2['BMI'].mean()\n",
    "high_bmi = player_df2.query('BMI>{}'.format(mean))\n",
    "low_bmi = player_df2.query('BMI<={}'.format(mean))\n",
    "\n",
    "potential_high_bmi = high_bmi['potential'].mean()\n",
    "potential_low_bmi = low_bmi['potential'].mean()\n",
    "\n",
    "\n",
    "rating_high_bmi = high_bmi['overall_rating'].mean()\n",
    "rating_low_bmi = low_bmi['overall_rating'].mean()\n",
    "\n"
   ]
  },
  {
   "cell_type": "code",
   "execution_count": 44,
   "metadata": {},
   "outputs": [
    {
     "data": {
      "text/plain": [
       "[Text(0, 0.5, 'Potential Ratings')]"
      ]
     },
     "execution_count": 44,
     "metadata": {},
     "output_type": "execute_result"
    },
    {
     "data": {
      "image/png": "[encoded data removed]",
      "text/plain": [
       "<Figure size 432x288 with 1 Axes>"
      ]
     },
     "metadata": {
      "needs_background": "light"
     },
     "output_type": "display_data"
    }
   ],
   "source": [
    "ax = sns.barplot(['High BMI', 'Low BMI'], [potential_high_bmi, potential_low_bmi], alpha = 0.6, palette=\"Set2\")\n",
    "ax.set(ylabel='Potential Ratings')"
   ]
  },
  {
   "cell_type": "code",
   "execution_count": 45,
   "metadata": {},
   "outputs": [
    {
     "data": {
      "text/plain": [
       "[Text(0, 0.5, 'Overall Ratings')]"
      ]
     },
     "execution_count": 45,
     "metadata": {},
     "output_type": "execute_result"
    },
    {
     "data": {
      "image/png": "[encoded data removed]",
      "text/plain": [
       "<Figure size 432x288 with 1 Axes>"
      ]
     },
     "metadata": {
      "needs_background": "light"
     },
     "output_type": "display_data"
    }
   ],
   "source": [
    "ax = sns.barplot(['High BMI', 'Low BMI'], [rating_high_bmi, rating_low_bmi], alpha=0.6, palette='Set2')\n",
    "ax.set(ylabel=\"Overall Ratings\")"
   ]
  },
  {
   "cell_type": "code",
   "execution_count": 46,
   "metadata": {},
   "outputs": [
    {
     "data": {
      "text/html": [
       "<div>\n",
       "<style scoped>\n",
       "    .dataframe tbody tr th:only-of-type {\n",
       "        vertical-align: middle;\n",
       "    }\n",
       "\n",
       "    .dataframe tbody tr th {\n",
       "        vertical-align: top;\n",
       "    }\n",
       "\n",
       "    .dataframe thead th {\n",
       "        text-align: right;\n",
       "    }\n",
       "</style>\n",
       "<table border=\"1\" class=\"dataframe\">\n",
       "  <thead>\n",
       "    <tr style=\"text-align: right;\">\n",
       "      <th></th>\n",
       "      <th>player_name</th>\n",
       "      <th>preferred_foot</th>\n",
       "      <th>overall_rating</th>\n",
       "      <th>potential</th>\n",
       "      <th>sprint_speed</th>\n",
       "      <th>stamina</th>\n",
       "      <th>BMI</th>\n",
       "    </tr>\n",
       "  </thead>\n",
       "  <tbody>\n",
       "    <tr>\n",
       "      <th>0</th>\n",
       "      <td>Aaron Appindangoye</td>\n",
       "      <td>right</td>\n",
       "      <td>63.600000</td>\n",
       "      <td>67.600000</td>\n",
       "      <td>64.000000</td>\n",
       "      <td>54.000000</td>\n",
       "      <td>0.977968</td>\n",
       "    </tr>\n",
       "    <tr>\n",
       "      <th>1</th>\n",
       "      <td>Aaron Cresswell</td>\n",
       "      <td>left</td>\n",
       "      <td>67.870968</td>\n",
       "      <td>75.419355</td>\n",
       "      <td>75.967742</td>\n",
       "      <td>73.967742</td>\n",
       "      <td>1.165616</td>\n",
       "    </tr>\n",
       "    <tr>\n",
       "      <th>2</th>\n",
       "      <td>Aaron Cresswell</td>\n",
       "      <td>right</td>\n",
       "      <td>53.000000</td>\n",
       "      <td>60.000000</td>\n",
       "      <td>59.000000</td>\n",
       "      <td>56.000000</td>\n",
       "      <td>1.165616</td>\n",
       "    </tr>\n",
       "    <tr>\n",
       "      <th>3</th>\n",
       "      <td>Aaron Doran</td>\n",
       "      <td>right</td>\n",
       "      <td>67.000000</td>\n",
       "      <td>74.192308</td>\n",
       "      <td>77.500000</td>\n",
       "      <td>70.923077</td>\n",
       "      <td>1.044049</td>\n",
       "    </tr>\n",
       "    <tr>\n",
       "      <th>4</th>\n",
       "      <td>Aaron Galindo</td>\n",
       "      <td>right</td>\n",
       "      <td>69.086957</td>\n",
       "      <td>70.782609</td>\n",
       "      <td>52.826087</td>\n",
       "      <td>55.434783</td>\n",
       "      <td>0.923636</td>\n",
       "    </tr>\n",
       "  </tbody>\n",
       "</table>\n",
       "</div>"
      ],
      "text/plain": [
       "          player_name preferred_foot  overall_rating  potential  sprint_speed  \\\n",
       "0  Aaron Appindangoye          right       63.600000  67.600000     64.000000   \n",
       "1     Aaron Cresswell           left       67.870968  75.419355     75.967742   \n",
       "2     Aaron Cresswell          right       53.000000  60.000000     59.000000   \n",
       "3         Aaron Doran          right       67.000000  74.192308     77.500000   \n",
       "4       Aaron Galindo          right       69.086957  70.782609     52.826087   \n",
       "\n",
       "     stamina       BMI  \n",
       "0  54.000000  0.977968  \n",
       "1  73.967742  1.165616  \n",
       "2  56.000000  1.165616  \n",
       "3  70.923077  1.044049  \n",
       "4  55.434783  0.923636  "
      ]
     },
     "execution_count": 46,
     "metadata": {},
     "output_type": "execute_result"
    }
   ],
   "source": [
    "player_df2.head()"
   ]
  },
  {
   "cell_type": "code",
   "execution_count": 47,
   "metadata": {},
   "outputs": [],
   "source": [
    "right_leg = player_df2[player_df2['preferred_foot']=='right']\n",
    "left_leg = player_df2[player_df2['preferred_foot']=='left']\n",
    "\n",
    "\n",
    "right_potential = right_leg['potential'].mean()\n",
    "left_potential = left_leg['potential'].mean()\n",
    "\n",
    "right_rating = right_leg['overall_rating'].mean()\n",
    "left_rating = left_leg['overall_rating'].mean()\n"
   ]
  },
  {
   "cell_type": "code",
   "execution_count": 48,
   "metadata": {},
   "outputs": [
    {
     "data": {
      "text/plain": [
       "[Text(0, 0.5, 'Potential Ratings')]"
      ]
     },
     "execution_count": 48,
     "metadata": {},
     "output_type": "execute_result"
    },
    {
     "data": {
      "image/png": "[encoded data removed]",
      "text/plain": [
       "<Figure size 432x288 with 1 Axes>"
      ]
     },
     "metadata": {
      "needs_background": "light"
     },
     "output_type": "display_data"
    }
   ],
   "source": [
    "axs = sns.barplot(['Right Footed', 'Left Footed'], [right_potential, left_potential], alpha=0.6, palette='Set2')\n",
    "axs.set(ylabel=\"Potential Ratings\")"
   ]
  },
  {
   "cell_type": "code",
   "execution_count": 49,
   "metadata": {},
   "outputs": [
    {
     "data": {
      "text/plain": [
       "[Text(0, 0.5, 'Overall Ratings')]"
      ]
     },
     "execution_count": 49,
     "metadata": {},
     "output_type": "execute_result"
    },
    {
     "data": {
      "image/png": "[encoded data removed]",
      "text/plain": [
       "<Figure size 432x288 with 1 Axes>"
      ]
     },
     "metadata": {
      "needs_background": "light"
     },
     "output_type": "display_data"
    }
   ],
   "source": [
    "axs = sns.barplot(['Right Footed', 'Left Footed'], [right_rating, left_rating], alpha=0.6, palette='Set2')\n",
    "axs.set(ylabel=\"Overall Ratings\")\n"
   ]
  }
 ],
 "metadata": {
  "kernelspec": {
   "display_name": "Python 3",
   "language": "python",
   "name": "python3"
  },
  "language_info": {
   "codemirror_mode": {
    "name": "ipython",
    "version": 3
   },
   "file_extension": ".py",
   "mimetype": "text/x-python",
   "name": "python",
   "nbconvert_exporter": "python",
   "pygments_lexer": "ipython3",
   "version": "3.8.3"
  }
 },
 "nbformat": 4,
 "nbformat_minor": 2
}
